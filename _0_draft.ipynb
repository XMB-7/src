{
 "cells": [
  {
   "attachments": {},
   "cell_type": "markdown",
   "metadata": {},
   "source": [
    "# Alerts"
   ]
  },
  {
   "cell_type": "code",
   "execution_count": 1,
   "metadata": {},
   "outputs": [
    {
     "data": {
      "text/plain": [
       "'\\nfrom datetime import timedelta\\n这个在下载时没用上 可能需要调整 \\n但再一想 或许只是保存时间戳字符串就已经足够了 \\n等到用的时候现去计算差值 可能更好一些\\n不然比如绘图之时 只有时间差值而没有绝对值 这就没法标时\\n\\n注意 雷达采样其实并不完全均匀 \\n第一天数据就是均匀的 但最后一天的却是不均匀的\\n另外也有同一天内 多数均匀少数不均匀 甚至缺值这种情况\\n\\n'"
      ]
     },
     "execution_count": 1,
     "metadata": {},
     "output_type": "execute_result"
    }
   ],
   "source": [
    "\"\"\"\n",
    "目前有个毛病 远程连接内核总是启动不了\n",
    "此时需要切回base 成功执行一个指令 比如a=1之类 然后再给切换回来\n",
    "注意这不是环境的切换 而是选择哪一个环境里的解释器\n",
    "再者并不是百试百灵的 可能需要来回切换反复执行 最终是能好的\n",
    "究其缘由 似乎是一个依赖包出了问题 可能需要对其降级\n",
    "但是需要慎重 别整完百分百不好使 那就耽误事了\n",
    "\n",
    "顺便一提 打开多个远程窗口 不能共同使用同一个解释器 \n",
    "这个选了那个就断 断了之后还得再走一遍上述流程 非常麻烦 所以准备多个环境其实很有必要\n",
    "\n",
    "\"\"\"\n",
    "\n",
    "\n",
    "\"\"\"\n",
    "我比较担心数据的泄露 同一天的序列间多数帧是重复的 \n",
    "现在的数据集就这么构建的 若想调整需要时间 暂时顾不上了\n",
    "而且再想一下 这应该不算是数据泄露才对 \n",
    "再者这么训练 会不会反而有优势 ⁉️ \n",
    "\n",
    "\"\"\"\n",
    "\n",
    "\n",
    "\"\"\"\n",
    "from datetime import timedelta\n",
    "这个在下载时没用上 可能需要调整 \n",
    "但再一想 或许只是保存时间戳字符串就已经足够了 \n",
    "等到用的时候现去计算差值 可能更好一些\n",
    "不然比如绘图之时 只有时间差值而没有绝对值 这就没法标时\n",
    "\n",
    "注意 雷达采样其实并不完全均匀 \n",
    "第一天数据就是均匀的 但最后一天的却是不均匀的\n",
    "另外也有同一天内 多数均匀少数不均匀 甚至缺值这种情况\n",
    "\n",
    "\"\"\""
   ]
  },
  {
   "cell_type": "markdown",
   "metadata": {},
   "source": [
    "# Configuration"
   ]
  },
  {
   "cell_type": "code",
   "execution_count": 2,
   "metadata": {},
   "outputs": [
    {
     "data": {
      "text/plain": [
       "'\\n另外 远程连接服务器时 需要修改ssh相关配置\\nOpenSSH客户端有两小时的超时设定 若会话的空闲时间超过这一限制 远程连接就会中断\\n所以需要手动向服务器上ssh配置文件中添加如下内容\\n\\nHost * \\n\\tServerAliveInterval 1800 \\n\\tServerAliveCountMax 48\\n\\n这将使客户端每隔60秒就向服务器发送一次空数据包 并允许最多发送10个这样的数据包\\n如果始终无法收到响应 才会自动断开连接\\n实际上就是修改了客户端的默认行为 拉长了允许的闲置时间而已\\n\\n'"
      ]
     },
     "execution_count": 2,
     "metadata": {},
     "output_type": "execute_result"
    }
   ],
   "source": [
    "\"\"\"\n",
    "在学校的服务器上 我只被分配了32GB 这点存储空间根本就不够用\n",
    "所以说雷达数据的下载 绘图以及保存 全都要去colab上面完成 顺便节约个人硬件\n",
    "也幸好colab能挂载google drive 处理好的图片即时就能存入 否则断线清空还是个大麻烦\n",
    "\n",
    "图片处理完毕 还需要将之从云盘下载到本机 再手动传入学校服务器\n",
    "在学校的服务器上直接挂载谷歌云盘进而完成图片下载似乎是实现不了的\n",
    "除了colab以及kaggle能用api 其它的服务器貌似都不可以\n",
    "而在学校的服务器上安装谷歌云盘的应用 对于远程连接又非常不友好 传图形界面实在太卡了\n",
    "所以只好手动上传 幸亏训练数据总是相对不变 上传一次基本就一劳永逸了\n",
    "\n",
    "后来发现vscode有个插件 google drive for vscode\n",
    "但是经过测试 只能下载单个文件 甚至不能多选下载 所以也是鸡肋一个\n",
    "\n",
    "\"\"\"\n",
    "\n",
    "\n",
    "\"\"\"\n",
    "这是关于训练数据 至于代码部分 则会选择用git并发布到github备份与管理\n",
    "设置.gitignore忽略.ipynb_checkpoint以及__pychache__\n",
    "\n",
    "在colab里 用命令行指令克隆代码仓库 即可获取最新代码\n",
    "最简单方式是!git clone <repo_url>\n",
    "代码修改之后再推送就好了 我们完全能在colab里面自由使用git\n",
    "https://www.geeksforgeeks.org/how-to-install-and-use-git-in-google-colab\n",
    "\n",
    "注意克隆之后不要去打开仓库里的笔记本 那只会打开新的标签页 根本无法交互执行\n",
    "还得手动往当前的笔记本里复制代码 非常麻烦\n",
    "所以最好是用当前的笔记本执行仓库脚本 比如%run test.py (亦可写成%run test)\n",
    "注意此时需要使用魔法指令 因为需要执行结果全局继承 详见下文\n",
    "\n",
    "如果只需打开仓库的笔记本 亦即代码没有使用额外数据或者模块\n",
    "甚至若仓库里除笔记本之外并无其它文件\n",
    "那此时不必克隆仓库了 因为colab允许在打开笔记本时就直接搜索github仓库\n",
    "这显然是更简便的操作方式 但此时提交版本该怎么操作 ⁉️\n",
    "https://blog.csdn.net/yhblog/article/details/121534768\n",
    "\n",
    "\"\"\"\n",
    "\n",
    "# 在ipython里 执行命令行指令 需要前引一个叹号 但可往后缀加空格 比如!pwd 或者! pwd\n",
    "# 但是执行ipython魔法指令 百分号后务必不能缀加空格 只有%pwd 没有% pwd \n",
    "\n",
    "# 魔法指令乃是ipython所独有的指令 又被称为魔法命令 (magic command) 算是特殊的命令行命令 \n",
    "# 要特别强调勿与python魔法函数相混淆\n",
    "# 较之于普通命令行指令 它的特殊之处在于 能够全局继承指令执行结果 否则一执行完shell就自动关闭了\n",
    "# 典型案例就是cd 只有使用%cd而非!cd才有效果\n",
    "# 别看命令主体相同 但是有着本质区别\n",
    "# 再比如说run 只有%run并无!run 亦即根本就没有run这一命令行指令\n",
    "\n",
    "# 除了!之外 选择使用os或者subprocess更加规范 详见下文\n",
    "# 因为便于代码移植 并不要求必须使用ipython\n",
    "#\n",
    "# 对于前例 虽然没有!run 但有subprocess.call('python test.py', shell=True)\n",
    "# 或者os.system('python test.py')以及os.popen('python test.py') 仍然需要详见下文\n",
    "# 但都如前所述无法使笔记本继承执行结果 故而并不建议使用\n",
    "\n",
    "# 补充一点 ipython如何执行多条命令行的语句\n",
    "# 1)\n",
    "# command1; command2; command3\n",
    "# 叹号可被省略这点 从这里就能看出迹象了 这点之前没有提及 需要补充 ⁉️\n",
    "# 此外os或者subprocess也可以这样执行多语句\n",
    "# 2)\n",
    "# !command1\n",
    "# !command2\n",
    "# !command3\n",
    "# 3)\n",
    "# %%bash (将整个单元格放入终端运行)\n",
    "# command1\n",
    "# command2\n",
    "# command3\n",
    "\n",
    "\"\"\"\n",
    "另外 远程连接服务器时 需要修改ssh相关配置\n",
    "OpenSSH客户端有两小时的超时设定 若会话的空闲时间超过这一限制 远程连接就会中断\n",
    "所以需要手动向服务器上ssh配置文件中添加如下内容\n",
    "\n",
    "Host * \n",
    "\tServerAliveInterval 1800 \n",
    "\tServerAliveCountMax 48\n",
    "\n",
    "这将使客户端每隔60秒就向服务器发送一次空数据包 并允许最多发送10个这样的数据包\n",
    "如果始终无法收到响应 才会自动断开连接\n",
    "实际上就是修改了客户端的默认行为 拉长了允许的闲置时间而已\n",
    "\n",
    "\"\"\""
   ]
  },
  {
   "cell_type": "code",
   "execution_count": 3,
   "metadata": {},
   "outputs": [
    {
     "data": {
      "text/plain": [
       "'\\nimport os\\n\\nif use_colab:\\n    from google.colab import drive\\n    # 如前所述 这个api只对colab或者kaggle好使\\n    # 其它服务器就挂载不了 即便已安装了模块google\\n    \\n    mount_dir = \\'/content/drive\\'\\n    # 这是默认挂载路径 并不建议更改 以便代码移植\\n    drive.mount(mount_dir)\\n    # 挂载之后并未进入挂载路径 (cd) \\n    # 因为现在只需要读 无需往云盘里写文件 \\n\\n    rel_path = \"MyDrive/MyProjects/Weather Nowcasting/XMB-7/arguments.py\"\\n    # 云盘中的配置文件所在路径\\n    file_path = os.path.join(mount_dir, rel_path)\\n\\n    %run $file_path\\n    # 不能直接使用格式化字符串\\n    # 其实这也挺奇怪的 ipython定义魔法函数居然参照的是bash 也就是命令行的样式 而非python语法 ⁉️\\n    # 顺便一提 这里甚至不能在句尾加分号 因为这种注释语法也是属于python\\n\\nelse:\\n    %run _1_arguments\\n    # 关于argparse 还是要学习到底怎么用\\n    # 这个名不必起成这样了 ⁉️\\n\\n'"
      ]
     },
     "execution_count": 3,
     "metadata": {},
     "output_type": "execute_result"
    }
   ],
   "source": [
    "\"\"\"\n",
    "这是一段废弃代码 用于读取云盘中的配置文件\n",
    "之所以还保留 则是因为上面还有学习笔记\n",
    "\n",
    "以前的方案是 代码存进谷歌云盘 进入colab之后 通过挂载云盘实现脚本访问\n",
    "但由于代码修改不直接发生在云盘里 所以每次更新都要上传一遍\n",
    "而我经常遗忘这点 故而总是在旧代码上继续做修改 最终不胜折磨还是特意学了git\n",
    "\n",
    "\"\"\"\n",
    "\n",
    "\n",
    "'''\n",
    "import os\n",
    "\n",
    "if use_colab:\n",
    "    from google.colab import drive\n",
    "    # 如前所述 这个api只对colab或者kaggle好使\n",
    "    # 其它服务器就挂载不了 即便已安装了模块google\n",
    "    \n",
    "    mount_dir = '/content/drive'\n",
    "    # 这是默认挂载路径 并不建议更改 以便代码移植\n",
    "    drive.mount(mount_dir)\n",
    "    # 挂载之后并未进入挂载路径 (cd) \n",
    "    # 因为现在只需要读 无需往云盘里写文件 \n",
    "\n",
    "    rel_path = \"MyDrive/MyProjects/Weather Nowcasting/XMB-7/arguments.py\"\n",
    "    # 云盘中的配置文件所在路径\n",
    "    file_path = os.path.join(mount_dir, rel_path)\n",
    "\n",
    "    %run $file_path\n",
    "    # 不能直接使用格式化字符串\n",
    "    # 其实这也挺奇怪的 ipython定义魔法函数居然参照的是bash 也就是命令行的样式 而非python语法 ⁉️\n",
    "    # 顺便一提 这里甚至不能在句尾加分号 因为这种注释语法也是属于python\n",
    "\n",
    "else:\n",
    "    %run _1_arguments\n",
    "    # 关于argparse 还是要学习到底怎么用\n",
    "    # 这个名不必起成这样了 ⁉️\n",
    "\n",
    "'''"
   ]
  },
  {
   "cell_type": "code",
   "execution_count": 4,
   "metadata": {},
   "outputs": [
    {
     "data": {
      "text/plain": [
       "'\\ntry: %run _1_arguments\\n# 这种写法报错 \\n# 如前所述python和ipython不能混用\\nexcept: \"please run the argument script by hand\"\\n# 注意 配置文件不能import 其中参数只有在终端里才能生成\\n# 如果用的不是ipython 没有%run可用 这可咋办 \\n# 直接在终端里执行脚本即可 不用ipython就好\\n#\\n# 注意模块名不能以数字开头 若将之起为1_arguments则无法导入\\n# 所以为了文件系统能够排序 只好起这种名 \\n# 这是最初以为可以导入时的方案 现在虽不能导入了 但对其它模块同理\\n\\n'"
      ]
     },
     "execution_count": 4,
     "metadata": {},
     "output_type": "execute_result"
    }
   ],
   "source": [
    "\"\"\"\n",
    "导入参数配置\n",
    "\n",
    "这里是特意把少部分参数单独拎出来 这样就不必再额外去打开配置文件了\n",
    "笔记本上直接能改\n",
    "\n",
    "\"\"\"\n",
    "\n",
    "use_colab = False\n",
    "# 若用colab 则要进行仓库克隆\n",
    "# 但要注意 仓库里面并无数据以及日志 因为仓库只包含了src\n",
    "# 若想访问还要挂载谷歌云盘\n",
    "use_g4 = True\n",
    "# 若用学校的linuxg4这一服务器 则要额外配置一下gpu\n",
    "# 另外还需拉取最新代码\n",
    "assert not (use_colab and use_g4), \\\n",
    "\"use_colab and use_g4 should not both be equal to rrue.\"\n",
    "# 只要不同为真即可 \n",
    "# 双假则意味着使用其它主机\n",
    "\n",
    "skip_download = True\n",
    "# 跳过数据下载 若已完成的话\n",
    "skip_plot = True\n",
    "# 跳过图像绘制 若已完成的话\n",
    "\n",
    "import os\n",
    "repo_url = 'https://github.com/xmb-7/src'\n",
    "# 若拉取代码使用不上该变量的话 就塞到分支里面去 ⁉️\n",
    "if use_colab:\n",
    "    # 挂载谷歌云盘 >\n",
    "    mount_dir = '/content/drive'\n",
    "    if not os.path.exists(mount_dir):  \n",
    "        from google.colab import drive\n",
    "        drive.mount(mount_dir)\n",
    "        # 注意云盘里面 相关资源比如数据或者日志 是只有上传过才会有\n",
    "        # 通过代码挂载需要多次确认 不如直接点击左侧图标按钮 ⁉️\n",
    "\n",
    "    # 克隆仓库 > \n",
    "    root_dir = '/content/src'\n",
    "    if not os.path.exists(root_dir):\n",
    "        os.system(f'git clone {repo_url}')\n",
    "    \n",
    "    # 修改工作路径 >\n",
    "    os.chdir(root_dir)\n",
    "\n",
    "elif use_g4:\n",
    "    # 拉取最新代码 >\n",
    "    pass\n",
    "    # 暂时不知道怎么用代码拉取仓库最新版本代码\n",
    "    # 主要是不知怎么用git ⁉️\n",
    "\n",
    "    # 修改工作路径 >\n",
    "    root_dir = '/net/nasstore/students/UNGRAD/UE/xbai/home/MyThesis/src'\n",
    "    os.chdir(root_dir)\n",
    "    # 其实可以把它拿到分支外面 但个人感觉可读性不佳\n",
    "\n",
    "# 导入参数配置 >\n",
    "%run _1_arguments\n",
    "# 仅仅支持ipython \n",
    "# 其余场合需要手动在终端里执行脚本 详见下文\n",
    "\n",
    "'''\n",
    "try: %run _1_arguments\n",
    "# 这种写法报错 \n",
    "# 如前所述python和ipython不能混用\n",
    "except: \"please run the argument script by hand\"\n",
    "# 注意 配置文件不能import 其中参数只有在终端里才能生成\n",
    "# 如果用的不是ipython 没有%run可用 这可咋办 \n",
    "# 直接在终端里执行脚本即可 不用ipython就好\n",
    "#\n",
    "# 注意模块名不能以数字开头 若将之起为1_arguments则无法导入\n",
    "# 所以为了文件系统能够排序 只好起这种名 \n",
    "# 这是最初以为可以导入时的方案 现在虽不能导入了 但对其它模块同理\n",
    "\n",
    "'''"
   ]
  },
  {
   "attachments": {},
   "cell_type": "markdown",
   "metadata": {},
   "source": [
    "# GPU Check"
   ]
  },
  {
   "attachments": {},
   "cell_type": "markdown",
   "metadata": {},
   "source": [
    "### GPU Status"
   ]
  },
  {
   "cell_type": "code",
   "execution_count": 5,
   "metadata": {
    "ExecuteTime": {
     "end_time": "2021-11-01T02:36:52.684659Z",
     "start_time": "2021-11-01T02:36:52.267053Z"
    },
    "code_folding": [],
    "colab": {
     "base_uri": "https://localhost:8080/"
    },
    "executionInfo": {
     "elapsed": 1046,
     "status": "ok",
     "timestamp": 1635614706052,
     "user": {
      "displayName": "Xiaoming Bai",
      "photoUrl": "https://lh3.googleusercontent.com/a/default-user=s64",
      "userId": "14301546434876474122"
     },
     "user_tz": -480
    },
    "id": "AWPFoawyE4lU",
    "outputId": "b243d899-7862-42e6-d675-54f1b0108975"
   },
   "outputs": [
    {
     "data": {
      "text/plain": [
       "\"\\nimport os\\n\\nf = os.popen('nvidia-smi')\\nprint(f.read())\\n\\n\""
      ]
     },
     "execution_count": 5,
     "metadata": {},
     "output_type": "execute_result"
    }
   ],
   "source": [
    "'''\n",
    "import os\n",
    "\n",
    "f = os.popen('nvidia-smi')\n",
    "print(f.read())\n",
    "\n",
    "'''\n",
    "\n",
    "# 亦可选择直接执行!nvidia-smi\n",
    "# 但这会局限于ipython\n",
    "\n",
    "# 不要使用os.system('!nvidia-smi')\n",
    "# 语句虽能正常执行 但根本看不到相应显卡信息 \n",
    "# 这点前面已经提过 因为一执行完shell就自动关闭了\n",
    "#\n",
    "# os.popen()则会执行系统命令然后返回文件对象\n",
    "# popen = process open\n",
    "#\n",
    "# 但其实这俩函数都已经被废弃了 (并非已然无法使用 但建议是别再用了)\n",
    "# 使用subprocess模块 会有更好的可移植性以及安全性\n",
    "# 这是一个内建模块 无需进行额外安装 \n",
    "# 它通过子进程执行外部指令 并由input/output/error管道 获取子进程的执行返回信息\n",
    "#\n",
    "# os模块之中 被废弃或者说被上位替代的函数还有很多\n",
    "# 比如os.walk()之于os.scandir() 以及os.getenv()还有os.putenv()之于os.environ (注意这是字典)\n",
    "# https://docs.python.org/zh-cn/3/library/os.html ⁉️\n",
    "\n",
    "# 最后完全可以缀上个空语句 从而避免打印结果 \n",
    "# 但感觉不美观 这也是多行注释的弊端 仍不确定是否使用这种注释\n",
    "# 这个显示出的结果具体是怎么显示的 有的就能用空语句消掉 但有的就不能\n",
    "# 感觉是机制不一样 可能有的就是print 但有的是__setattr__ ⁉️"
   ]
  },
  {
   "cell_type": "code",
   "execution_count": 6,
   "metadata": {},
   "outputs": [
    {
     "name": "stdout",
     "output_type": "stream",
     "text": [
      "Wed Mar  8 22:20:41 2023       \n",
      "+-----------------------------------------------------------------------------+\n",
      "| NVIDIA-SMI 495.29.05    Driver Version: 495.29.05    CUDA Version: 11.5     |\n",
      "|-------------------------------+----------------------+----------------------+\n",
      "| GPU  Name        Persistence-M| Bus-Id        Disp.A | Volatile Uncorr. ECC |\n",
      "| Fan  Temp  Perf  Pwr:Usage/Cap|         Memory-Usage | GPU-Util  Compute M. |\n",
      "|                               |                      |               MIG M. |\n",
      "|===============================+======================+======================|\n",
      "|   0  NVIDIA A100-PCI...  On   | 00000000:01:00.0 Off |                   On |\n",
      "| N/A   46C    P0    58W / 250W |    386MiB / 40536MiB |     N/A      Default |\n",
      "|                               |                      |              Enabled |\n",
      "+-------------------------------+----------------------+----------------------+\n",
      "\n",
      "+-----------------------------------------------------------------------------+\n",
      "| MIG devices:                                                                |\n",
      "+------------------+----------------------+-----------+-----------------------+\n",
      "| GPU  GI  CI  MIG |         Memory-Usage |        Vol|         Shared        |\n",
      "|      ID  ID  Dev |           BAR1-Usage | SM     Unc| CE  ENC  DEC  OFA  JPG|\n",
      "|                  |                      |        ECC|                       |\n",
      "|==================+======================+===========+=======================|\n",
      "|  0    1   0   0  |    376MiB / 20096MiB | 42      0 |  3   0    2    0    0 |\n",
      "|                  |      4MiB / 32767MiB |           |                       |\n",
      "+------------------+----------------------+-----------+-----------------------+\n",
      "|  0    2   0   1  |     10MiB / 20096MiB | 42      0 |  3   0    2    0    0 |\n",
      "|                  |      0MiB / 32767MiB |           |                       |\n",
      "+------------------+----------------------+-----------+-----------------------+\n",
      "                                                                               \n",
      "+-----------------------------------------------------------------------------+\n",
      "| Processes:                                                                  |\n",
      "|  GPU   GI   CI        PID   Type   Process name                  GPU Memory |\n",
      "|        ID   ID                                                   Usage      |\n",
      "|=============================================================================|\n",
      "|    0    1    0      12573      C   ./runner12                        179MiB |\n",
      "|    0    1    0      52796      C   ./runner12                        179MiB |\n",
      "+-----------------------------------------------------------------------------+\n"
     ]
    },
    {
     "data": {
      "text/plain": [
       "0"
      ]
     },
     "execution_count": 6,
     "metadata": {},
     "output_type": "execute_result"
    }
   ],
   "source": [
    "import subprocess\n",
    "subprocess.call('nvidia-smi', shell=True)\n",
    "\n",
    "# 参考Python文档 继续学习相关用法 还是挺复杂的\n",
    "# https://docs.python.org/zh-cn/3/library/subprocess.html ⁉️\n",
    "#\n",
    "# 此外还有一些其它相关信息\n",
    "# https://blog.csdn.net/qq_27825451/article/details/102909772 ⁉️"
   ]
  },
  {
   "attachments": {},
   "cell_type": "markdown",
   "metadata": {},
   "source": [
    "### GPU Setup"
   ]
  },
  {
   "cell_type": "code",
   "execution_count": 7,
   "metadata": {},
   "outputs": [
    {
     "name": "stdout",
     "output_type": "stream",
     "text": [
      "GPU-3862c50d-b7ce-09b9-d145-df9a68afaef2\n"
     ]
    }
   ],
   "source": [
    "\"\"\"\n",
    "GPU on Linux g4 (1 x Tesla A100) is set in multi-instance mode,\n",
    "which can be partitioned into separate instances.\n",
    "\n",
    "To identify and choose one instance to use:\n",
    "1) nvidia-smi -L\n",
    "2) if using bash: export CUDA_VISIBLE_DEVICES=MIG-xxx-xxx-xxx-xxx-xxx\n",
    "   if using tcsh: setenv CUDA_VISIBLE_DEVICES MIG-xxx-xxx-xxx-xxx-xxx\n",
    "3) run your code as normal\n",
    "\n",
    "GPU 0: GPU-3862c50d-b7ce-09b9-d145-df9a68afaef2\n",
    "Device 0: MIG-57ae2138-d2c4-5c06-a29a-df60c612e14e\n",
    "Device 1: MIG-26238f5d-6826-5e90-a3f7-71eae092d7ba\n",
    "\n",
    "\"\"\"\n",
    "\n",
    "'''\n",
    "import subprocess\n",
    "subprocess.call(\"nvidia-smi -L\", shell=True)\n",
    "\n",
    "不必再执行了 序号记录下来就好 应该不会发生变动\n",
    "\n",
    "'''\n",
    "\n",
    "# 如果采用多行注释 注意对代码要用单引号 对文本要用双引号\n",
    "# 这是个人习惯 双引号表语义\n",
    "\n",
    "gpu_id = 'GPU-3862c50d-b7ce-09b9-d145-df9a68afaef2'\n",
    "inst0_id = 'MIG-57ae2138-d2c4-5c06-a29a-df60c612e14e'\n",
    "inst1_id = 'MIG-26238f5d-6826-5e90-a3f7-71eae092d7ba'\n",
    "# inst = instance\n",
    "\n",
    "# >\n",
    "# 上述方案仅在终端里面有效 如果使用jupyter并不好使 此时就要设置环境变量才行\n",
    "\n",
    "if use_g4:\n",
    "   import os\n",
    "   \n",
    "   os.environ['CUDA_VISIBLE_DEVICES'] = inst0_id\n",
    "\n",
    "   # 使用环境变量\n",
    "   print(os.getenv('CUDA_VISIBLE_DEVICES'))"
   ]
  },
  {
   "attachments": {},
   "cell_type": "markdown",
   "metadata": {
    "id": "lQ-finPuE4lh"
   },
   "source": [
    "# Data Download"
   ]
  },
  {
   "attachments": {},
   "cell_type": "markdown",
   "metadata": {
    "id": "5od_pdQRE4lj"
   },
   "source": [
    "##### Notes"
   ]
  },
  {
   "cell_type": "code",
   "execution_count": 8,
   "metadata": {
    "ExecuteTime": {
     "end_time": "2021-10-30T01:37:11.368075Z",
     "start_time": "2021-10-30T01:37:11.358101Z"
    },
    "code_folding": [
     0
    ],
    "id": "3BePtgN9E4lm"
   },
   "outputs": [
    {
     "data": {
      "text/plain": [
       "'\\n等到具体下载之时 以日期为文件夹名 将来自不同日期的数据存入不同的文件夹之中\\n而且稍后处理雷达数据文件以及最终保存雷达数据图像也都是要这样\\n总之对数据要按天进行处理 \\n\\n顺便一提 如前所述建议使用colab绘制以及存储图像 直接同步进谷歌云盘\\n这样比较节省个人硬件资源 毕竟待下载的雷达文件还是非常多的\\ncolab虽然有在线时长的限制 但我已经考虑到了断线续接 如果没跑完就中断了 直接重跑代码即可\\n\\n'"
      ]
     },
     "execution_count": 8,
     "metadata": {},
     "output_type": "execute_result"
    }
   ],
   "source": [
    "\"\"\"\n",
    "手动查找强沉降的发生日期 并为每天仅挑出一个强沉降的长持续时段\n",
    "记录年月日期以及起止时刻 以便稍后统一下载相对应的数据文件\n",
    "格式不妨选为%Y%m%d_%H%M%S 比如20201012_080102\n",
    "起止时刻直接取整 向上和向下取整到小时\n",
    "稍微囊括进来一些沉降的形成与消弭 完全不碍事的 甚至还是很有必要\n",
    "选出的时段内包含少量晴天也是没问题的 稍后还会进行过滤 以去除沉降强度过低的部分序列\n",
    "\n",
    "\"\"\"\n",
    "\n",
    "# 要注意这个时段只表示下载范围 比如(20201012_080102, 20201012_200102)\n",
    "# 只是表明需要下载时段之中所有数据 并不代表起止时刻一定会有雷达数据\n",
    "\n",
    "# 目前是按天选择连续的沉降时段 直接杜绝跨天现象\n",
    "# 如此一来 在构建序列数据集之时 就不必费力去确保序列内部各图像之间的时间连续性了\n",
    "# 此种做法比较偷懒 数据利用率是比较低的\n",
    "# 但由于气象数据过往记录足够多 选择余地很大 所以奢侈一点也没什么坏处\n",
    "#\n",
    "# 但我总感觉应该按一次完整的沉降来进行建模 ⁉️\n",
    "\n",
    "# 找组里要下筛选强沉降日期的代码 ⁉️\n",
    "\n",
    "# Cuomo还调整了强沉降发生当天的强沉降序列和弱沉降序列的数目比例 以使二者大致相等\n",
    "# 但我做的基本都是前者远远多于后者 这就是手挑数据的结果\n",
    "# 或许刻意增加沉降前后数据 还会更有意义 ⁉️\n",
    "\n",
    "\"\"\"\n",
    "等到具体下载之时 以日期为文件夹名 将来自不同日期的数据存入不同的文件夹之中\n",
    "而且稍后处理雷达数据文件以及最终保存雷达数据图像也都是要这样\n",
    "总之对数据要按天进行处理 \n",
    "\n",
    "顺便一提 如前所述建议使用colab绘制以及存储图像 直接同步进谷歌云盘\n",
    "这样比较节省个人硬件资源 毕竟待下载的雷达文件还是非常多的\n",
    "colab虽然有在线时长的限制 但我已经考虑到了断线续接 如果没跑完就中断了 直接重跑代码即可\n",
    "\n",
    "\"\"\""
   ]
  },
  {
   "attachments": {},
   "cell_type": "markdown",
   "metadata": {
    "id": "3PC5lNE5E4l1"
   },
   "source": [
    "##### Preparatory Importing"
   ]
  },
  {
   "cell_type": "code",
   "execution_count": 9,
   "metadata": {},
   "outputs": [],
   "source": [
    "if not skip_download:\n",
    "    \n",
    "    import subprocess\n",
    "\n",
    "    from datetime import datetime\n",
    "    # from datetime import timedelta\n",
    "    # 似乎没用上啊 用的时候再导入吧 ⁉️\n",
    "    \n",
    "    try: from IPython.display import clear_output\n",
    "    # 注意有大小写的分别\n",
    "    #\n",
    "    # 即时清除当前单元格的输出 \n",
    "    # 通过设置唯一参数wait 指定是否在有新输出时清除旧输出\n",
    "    # 往往用于循环 for i in range(10): print(i); clear_output(True)\n",
    "    # 或是特意清除之前所有输出\n",
    "    #\n",
    "    # 如果用的不是ipython 那么就要根据操作系统调用os.system(‘cls’)或者os.system(‘clear’)\n",
    "    # 注意它们对ipython根本没有用 因为不是终端\n",
    "    except: pass\n",
    "\n",
    "    try: import nexradaws\n",
    "    except ImportError: \n",
    "        subprocess.call(\"pip install nexradaws\", shell=True)\n",
    "        import nexradaws\n",
    "\n",
    "    try: clear_output(True)\n",
    "    # 适配各种开发环境 因为用的可能不是ipython\n",
    "    except: pass\n",
    "    # 导入nexradaws之后 会打印出对该包的引用信息 重复导入才可消去\n",
    "    # 故而直接clear_output()将之清空\n",
    "    # 但后来发现不知何故不再弹出了 或是解释器版本更新了 ⁉️"
   ]
  },
  {
   "attachments": {},
   "cell_type": "markdown",
   "metadata": {
    "id": "ImISFUntQNpR"
   },
   "source": [
    "##### Functions"
   ]
  },
  {
   "cell_type": "code",
   "execution_count": 10,
   "metadata": {
    "ExecuteTime": {
     "end_time": "2021-10-30T01:40:55.698321Z",
     "start_time": "2021-10-30T01:40:55.692947Z"
    },
    "code_folding": [
     0
    ],
    "id": "iFtBXHA8QNpT",
    "run_control": {
     "marked": false
    }
   },
   "outputs": [],
   "source": [
    "def get_clerical_errors_in_precip_periods():\n",
    "    \"\"\"\n",
    "    Discription:\n",
    "    ---\n",
    "    Check a simple type of potential errors \n",
    "    in the recorded precipitation period list of tuples\n",
    "    for which the end time point is earlier than the start.\n",
    "    Return the corresponding precipitation periods in a list.\n",
    "    If not find any, return an empty list.\n",
    "    \n",
    "\n",
    "    Returns:\n",
    "    ---\n",
    "    error: list of tuples,\n",
    "    a list of tuples each indicating where a clerical error comes from.\n",
    "\n",
    "    \"\"\"\n",
    "    \n",
    "    # 检测某天沉降时段终止时刻是否早于起始时刻\n",
    "    # 只为避免这样一种低级失误 并不能保证这些沉降时段都是适合训练的\n",
    "\n",
    "    # 检测后的结果展示 放到另一个函数里面了\n",
    "    \n",
    "    errors_found = []\n",
    "    for month in args.precip_periods.keys():\n",
    "        for precip_period in args.precip_periods[month]:\n",
    "            if precip_period[0] >= precip_period[1]:\n",
    "            # 这里还有优化空间 看看该怎么把0/1改成start/end 毕竟索引没有语义 ⁉️\n",
    "                errors_found.append(precip_period)\n",
    "                \n",
    "    return errors_found"
   ]
  },
  {
   "cell_type": "code",
   "execution_count": 11,
   "metadata": {
    "ExecuteTime": {
     "end_time": "2021-10-30T01:40:55.721059Z",
     "start_time": "2021-10-30T01:40:55.700222Z"
    },
    "code_folding": [
     0
    ],
    "id": "lpdvh0zlQNpW"
   },
   "outputs": [],
   "source": [
    "def print_errors(errors_found):\n",
    "    \"\"\"\n",
    "    Discription:\n",
    "    Print out any clerical errors found in the records of precipitation periods.\n",
    "    \n",
    "\n",
    "    Parameters:\n",
    "    errors_found: list of tuples,\n",
    "    clerical errors detected by calling get_typos_in_precip_periods().\n",
    "    \n",
    "    \"\"\"\n",
    "\n",
    "    if len(errors_found):\n",
    "        print(\"Clerical errors in the records of precipitation periods,\")\n",
    "        print(\"for each tuple the end time point is earlier than the start:\")\n",
    "        print()\n",
    "        # 使用print语句 需要考虑与后续潜在的print语句是否进行额外分隔\n",
    "        # print默认参数自带换行 而这里是额外插入一个空行\n",
    "        print(\"---\")\n",
    "        print()\n",
    "        # 有无更优雅的方式 甚至换个函数 比如log模块 ⁉️\n",
    "\n",
    "        for error in errors_found:\n",
    "            print(error)\n",
    "            # 每个元组独占一行 这样显示效果更好\n",
    "            # 别直接print(errors_found)\n",
    "        print()\n",
    "        print(\"---\")\n",
    "        print()\n",
    "        print(\"Please re-run the code after error corrections.\")\n",
    "        print()\n",
    "        # 对于函数或方法的最后一个print 尤其需要关注是否应该对此进行额外分隔\n",
    "        # 因为再下一个print语句已在其外 \n",
    "        # 若不提前考虑 彼时难免就要来回跳转反复查看最终才能决定 比较麻烦\n",
    "        # 所以通常都会无脑选择追加一个空行 若不合适取消就好 (函数或方法内外的print语句连贯没有空行)\n",
    "        #\n",
    "        # 但弊端是这个追加出的空行会被提前打印出来 而不会临执行下一个print语句时才被打印出来\n",
    "        #\n",
    "        # 这里的if和else分支里 各自最后打印空行 可以换成在分支外最后追加\n",
    "        # 但不建议这样 降低了可读性 追加分隔就该捆绑print 最好不要出现空间分离现象\n",
    "        \n",
    "    else: \n",
    "        print(\"No clerical errors found in the records of precipitation periods.\")\n",
    "        print(\"Go ahead to download radar data files.\")\n",
    "        print()"
   ]
  },
  {
   "cell_type": "code",
   "execution_count": 12,
   "metadata": {
    "ExecuteTime": {
     "end_time": "2021-10-30T01:40:55.742496Z",
     "start_time": "2021-10-30T01:40:55.722992Z"
    },
    "code_folding": [
     0
    ],
    "id": "P7z7pDxWQNpY",
    "run_control": {
     "marked": false
    }
   },
   "outputs": [],
   "source": [
    "def download_nexrad_sigmet_files():\n",
    "# 下载失败提示 命令行解压缩 嵌套中的长字符串打印 ❓\n",
    "    \"\"\"\n",
    "    Discription:\n",
    "    Download the selected nexrad sigmet files,\n",
    "    and return the number of successful downloads, \n",
    "    along with a list of failed files.\n",
    "\n",
    "    \n",
    "    Returns:\n",
    "    num_success: int,\n",
    "    the total number of files that have been successfully downloaded,\n",
    "    not only in current runtime, but across multiple runtimes,\n",
    "    assuming that interruptions may occur so requiring several runtimes \n",
    "    to complete the whole downloading process.\n",
    "\n",
    "    files_failed: list,\n",
    "    a list of all file names failed to download so far.\n",
    "        \n",
    "    \"\"\"\n",
    "    \n",
    "    num_success = 0\n",
    "    files_failed = []\n",
    "    \n",
    "    for month in args.precip_periods.keys():\n",
    "        for period in args.precip_periods[month]:\n",
    "            \n",
    "            # 准备下载列表 >\n",
    "            #\n",
    "            start = datetime.strptime(period[0], '%Y%m%d_%H%M%S')\n",
    "            end = datetime.strptime(period[1], '%Y%m%d_%H%M%S')\n",
    "            # 若想使用nexradaws 需把时间从字符串转成datetime对象\n",
    "            connection = nexradaws.NexradAwsInterface()\n",
    "            scans = connection.get_avail_scans_in_range(\n",
    "                start, end, args.radar_id\n",
    "            )\n",
    "            scans = [scan for scan in scans if '_MDM' not in scan.filename]\n",
    "            # 不必下载以_MDM结尾的文件 将之从待下载列表中移除\n",
    "            \n",
    "            save_dir = f'{args.files_rootdir}/{period[0][0: 10]}'\n",
    "            # 最后是在提取数据所属日期 如前所述以日期为文件夹名\n",
    "            #\n",
    "            # \\在代码之中表示软换行 也包括在字符串中 别忘了字符串本身就是代码 \n",
    "            # 所以这里要么直接使用原始字符串 要么用/或\\\\来替代\\ (\\\\是\\的转义字符) \n",
    "            # 更加推荐使用/ 因为只有它才便于移植 其余那俩 一是python语法 一是windows语法\n",
    "\n",
    "            # 考虑断线续接问题 >\n",
    "            \n",
    "            if os.path.exists(save_dir) and \\\n",
    "            len(scans) == len(os.listdir(save_dir)):\n",
    "            # 如果下载路径已被创建 并且其中文件数目准确无误 则跳过相应部分的下载\n",
    "            #\n",
    "            # 软换行后 pep8规范似乎是加一个缩进 但这容易让人误以为子代码块\n",
    "                num_success += len(scans)\n",
    "                \n",
    "            else:\n",
    "            # 若下载路径尚未被创建 或其中文件数目对不上\n",
    "            # 则说明下载曾发生中断 此时就要重新下载当天所有数据 \n",
    "                print(f\"Downloading files from {period[0][0: 10]}...\")\n",
    "                files = connection.download(scans, save_dir)\n",
    "                # 完成单日数据下载\n",
    "                # files是一个迭代体\n",
    "                print()\n",
    "                # 这个批量下载是自带多个连续的print语句的\n",
    "                # 所以在下完某天的数据之后 最好手动补一个空行 从而额外分隔与下一天的输出\n",
    "                \n",
    "                # 整理下载成功与失败的信息 >\n",
    "                #\n",
    "                num_success += files.success_count\n",
    "                if files.failed_count != 0:\n",
    "                    files_failed += [file.filename for file in files.failed]\n",
    "                \n",
    "                for filename in os.listdir(save_dir):\n",
    "                    # 如果下载到了压缩文件数据 则要进行解压 >\n",
    "                    if '.gz' in filename:\n",
    "                        os.system('gunzip -f ' + os.path.join(save_dir, filename))\n",
    "                        # .gz就是linux常用的压缩包格式\n",
    "                        # gzip是压缩 gunzip是解压\n",
    "                        # 亲自试了一下解压rar文件 没能成功 不知道为什么 ⁉️\n",
    "                        # \n",
    "                        # 而且这里还有问题 解压之后用不用把压缩包删掉啊 相关参数是什么啊\n",
    "                        # 目前尚未遇到压缩文件 所以暂时不用关心 ⁉️\n",
    "                        \n",
    "    print(f\"{num_success} files have been downloaded in total.\", end=\"\\r\")\n",
    "    print()\n",
    "    \n",
    "    if len(files_failed):\n",
    "        print(f\"{len(files_failed)} files failed to be downloaded and displayed below.\")\n",
    "        print(\"---\")\n",
    "        for filename in files_failed:\n",
    "            print(filename)\n",
    "        print(\"---\")\n",
    "        print(\"Please re-run to see if those failed files would be successfully\",\n",
    "              \"downloaded in the next runtime.\",\n",
    "              sep=\" \")\n",
    "        print(\"If not, plese download them by hand and put it into the proper folder\",\n",
    "              \"or just delete the correspoinding precipitation period records\",\n",
    "              \"to simply skip downloading them.\",\n",
    "              sep=\" \")\n",
    "        print(\"Otherwise the upcoming dataset construction process\",\n",
    "              \"would be severely influenced.\",\n",
    "              sep=\" \")\n",
    "        print()\n",
    "        \n",
    "    # 在嵌套的结构中打印长句 如果使用换行符\\ 就导致下一行会顶行开始 丧失嵌套结构 非常难看\n",
    "    # 如果人为添加缩进 那么最后还得用字符串的strip方法给调整回来 非常繁琐 所以暂时不知道有没有什么好方法 ⁉️\n",
    "    \n",
    "    return num_success, files_failed"
   ]
  },
  {
   "attachments": {},
   "cell_type": "markdown",
   "metadata": {
    "id": "eLKTQ9ecQNpa"
   },
   "source": [
    "# Plots and Saving"
   ]
  },
  {
   "attachments": {},
   "cell_type": "markdown",
   "metadata": {
    "heading_collapsed": true,
    "id": "65FOKagKQNpc"
   },
   "source": [
    "##### Notes"
   ]
  },
  {
   "cell_type": "code",
   "execution_count": 13,
   "metadata": {
    "ExecuteTime": {
     "end_time": "2021-10-30T01:40:55.760064Z",
     "start_time": "2021-10-30T01:40:55.744440Z"
    },
    "code_folding": [
     0
    ],
    "hidden": true,
    "id": "GTuNAl4sQNpc"
   },
   "outputs": [],
   "source": [
    "# 读取雷达数据 转换图像数组 检测沉降强度 绘图并且保存 \n",
    "# 注意将沉降信息与时间信息同时存入文件名 ⁉️"
   ]
  },
  {
   "cell_type": "code",
   "execution_count": 14,
   "metadata": {
    "ExecuteTime": {
     "end_time": "2021-10-30T01:40:55.780204Z",
     "start_time": "2021-10-30T01:40:55.761913Z"
    },
    "code_folding": [
     0
    ],
    "hidden": true,
    "id": "kJL7naHZQNpf"
   },
   "outputs": [],
   "source": [
    "# 直接存储图像会比存储图像数组节约两三倍的存储空间\n",
    "# 因此选择放弃使用后者转而使用前者\n",
    "# 暂时不知为何 虽然把前者读进来明明就跟后者完全一致 ⁉️"
   ]
  },
  {
   "cell_type": "code",
   "execution_count": 15,
   "metadata": {
    "ExecuteTime": {
     "end_time": "2021-10-30T01:40:55.837710Z",
     "start_time": "2021-10-30T01:40:55.820501Z"
    },
    "code_folding": [
     0
    ],
    "hidden": true,
    "id": "Zxnautk8QNpj"
   },
   "outputs": [],
   "source": [
    "# 未来会做时间插值 用内插算法把不规则的时间间隔给变成均匀的 \n",
    "# 然而是先处理再插值还是先插值再处理呢 或许应该是前者 起码应该先把非数值的都处理掉\n",
    "# 这个原理是啥啊 具体有待研究Cuomo写的教学案例 而且最好专门去查下这个插值算法 ⁉️\n",
    "\n",
    "# 或许可以用作一种比较对象 用来比对我的预测好或不好 但实际上意义不大\n",
    "# 另外还可以从周边的雷达站那里查找相同地点不同时间的数据来进行比对 ⁉️"
   ]
  },
  {
   "cell_type": "code",
   "execution_count": 16,
   "metadata": {
    "ExecuteTime": {
     "end_time": "2021-10-30T01:40:55.799669Z",
     "start_time": "2021-10-30T01:40:55.781951Z"
    },
    "code_folding": [
     0
    ],
    "hidden": true,
    "id": "4-kmpKyNQNph"
   },
   "outputs": [],
   "source": [
    "# 手动检查已保存的图片\n",
    "# 若某天里一个强沉降的图像都没有 那就删去该天的所有数据 完了新找一天下载并且检查新的数据\n",
    "# 暂且先这样 之前毕竟是肉眼选择的日期 难免有不合要求的出现\n",
    "# 如前所述有时间再找Kim或Jacob要一下用于筛选强沉降发生的日期的代码 ⁉️"
   ]
  },
  {
   "attachments": {},
   "cell_type": "markdown",
   "metadata": {
    "id": "8g8fmZ59QNpl"
   },
   "source": [
    "##### Preparatory Importing"
   ]
  },
  {
   "cell_type": "code",
   "execution_count": 17,
   "metadata": {
    "ExecuteTime": {
     "end_time": "2021-10-30T05:57:10.222379Z",
     "start_time": "2021-10-30T05:57:10.127959Z"
    },
    "code_folding": [
     0
    ],
    "id": "28Z-oQvMQNpl",
    "run_control": {
     "marked": false
    }
   },
   "outputs": [],
   "source": [
    "if not skip_download:\n",
    "\n",
    "    try: import pyart\n",
    "    except ImportException:\n",
    "        os.system('pip install arm_pyart')\n",
    "        import pyart\n",
    "\n",
    "    try: import cartopy\n",
    "    except ImportException:\n",
    "        os.system('pip install cartopy')\n",
    "        import cartopy\n",
    "\n",
    "    import numpy as np\n",
    "\n",
    "    try: clear_output()\n",
    "    except: pass\n",
    "    # 导入pyart和导入nexradaws一样 不再赘述\n",
    "\n",
    "    '''\n",
    "    import warnings\n",
    "    warnings.filterwarnings(\"ignore\")\n",
    "    # 如果没有使用IPython 那就需要考虑忽略警告信息 至于引用信息就用重复执行来消除 \n",
    "    # 再者 执行这一语句本身其实也会弹出警告 同样需要重复执行来消除\n",
    "    '''\n",
    "\n",
    "    from PIL import Image"
   ]
  },
  {
   "attachments": {},
   "cell_type": "markdown",
   "metadata": {
    "id": "W4xldtYaQNpl"
   },
   "source": [
    "##### Functions"
   ]
  },
  {
   "cell_type": "code",
   "execution_count": 18,
   "metadata": {
    "ExecuteTime": {
     "end_time": "2021-10-30T01:40:55.916111Z",
     "start_time": "2021-10-30T01:40:55.897062Z"
    },
    "code_folding": [
     0
    ],
    "id": "6KwNyJ3FQNpl"
   },
   "outputs": [],
   "source": [
    "def check_if_single_img_covers_intense_precip(img_arr): \n",
    "# ? 去掉了阈值归一化 ⁉️\n",
    "\n",
    "    \"\"\"\n",
    "    Description\n",
    "    ---\n",
    "    This function is equavelent to what a CNN average pooling layer does: \n",
    "    convolve an image array with a kernel to see if any local region covers \n",
    "    intense precipitation content.\n",
    "    Return True if so.\n",
    "    \n",
    "    Parameters\n",
    "    ---\n",
    "    img_arr : numpy.ndarray\n",
    "        A single image 2D array of shape (height, width).\n",
    "    \n",
    "    Returns\n",
    "    ---\n",
    "    if_required : bool\n",
    "        A flag to indicate if a image array could be regarded as covering \n",
    "        intense precipitation content.\n",
    "\n",
    "    \"\"\"\n",
    "    \n",
    "    img_h = img_arr.shape[0]\n",
    "    img_w = img_arr.shape[1]\n",
    "    \n",
    "    if args.kernel_size: \n",
    "        k_h = args.kernel_size.shape[0]\n",
    "        k_w = args.kernel_size.shape[1]\n",
    "    else:\n",
    "    # 若未指定卷积核的大小 则默认将待考察的局部大小设为图像整体高宽的八分之一\n",
    "        k_h = img_h // 8\n",
    "        k_w =  img_w // 8\n",
    "    \n",
    "    conv_result = np.zeros(\n",
    "        (img_h - k_h + 1, img_w - k_w + 1)\n",
    "    )\n",
    "    for i in range(conv_result.shape[0]):\n",
    "        for j in range(conv_result.shape[1]):\n",
    "            conv_result[i, j] = (img_arr[i: i + k_h, j: j + k_w]).sum()\n",
    "    conv_result /= (k_h * k_w)\n",
    "    conv_result = np.where(conv_result <= args.field_value_range[1], 0, 1)\n",
    "    \n",
    "    if conv_result.sum() >= args.thresholds[\"frame\"][1]:\n",
    "        if_required = True \n",
    "    else:\n",
    "        if_required = False\n",
    "        \n",
    "    return if_required"
   ]
  },
  {
   "cell_type": "code",
   "execution_count": 19,
   "metadata": {
    "ExecuteTime": {
     "end_time": "2021-10-30T01:40:55.936302Z",
     "start_time": "2021-10-30T01:40:55.918025Z"
    },
    "code_folding": [
     0
    ],
    "id": "6VcKP-sBQNpl",
    "run_control": {
     "marked": false
    }
   },
   "outputs": [],
   "source": [
    "def get_single_image_array_with_precip_flag(radar_data): \n",
    "# ? grid含义 内插函数 去掉了/70*255这步 ⁉️\n",
    "\n",
    "    \"\"\"\n",
    "    Discription\n",
    "    ---\n",
    "    Extract radar data from one radar data file as a 2D array.\n",
    "    Directly treat all the values in that 2D array as image pixel values, this \n",
    "    could be done since all the values are clipped into (0, 70) which is a subset of\n",
    "    (0, 255).\n",
    "    Then make several kinds of transformations for further better plotting.\n",
    "    Also check if this image array covers intense precipitation content.\n",
    "        \n",
    "    Parameters\n",
    "    ---\n",
    "    radar_data : obj\n",
    "        An instance derived from a radar data file when read in by using PyART.\n",
    "        \n",
    "    Returns\n",
    "    ---\n",
    "    img_arr : numpy.ndarray\n",
    "        A numpy 2D array of pixel values which could be directly plotted.\n",
    "    if_required : bool\n",
    "        True for indicating this image array covers intense precipitation content.\n",
    "    \"\"\" \n",
    "    \n",
    "    grid = pyart.map.grid_from_radars(\n",
    "    # ? Cuomo将之命名为grids 就看能否理解这一变量的含义了 暂时不予关心\n",
    "        radar_data, fields=[args.field],\n",
    "        grid_shape=args.grid_shape, grid_limits=args.grid_limits,\n",
    "        weighting_function=\"BARNES2\"\n",
    "        # 内插函数\n",
    "        # ? 这个内插函数跟pandas的内插函数有啥区别 暂时不予关心\n",
    "    )\n",
    "    img_arr = grid.fields[f\"{args.field}\"][\"data\"].data[0]\n",
    "    # 去除掩藏的部分 仅仅取出雷达数据图片所对应的二维数组\n",
    "    # 最后这个[0]是从(1, 256, 256)中提取(256, 256)\n",
    "    img_arr = np.ma.filled(img_arr, fill_value=0)\n",
    "    # 用0dBz来替换非数值的数据\n",
    "    img_arr = np.clip(img_arr, args.field_value_range[0], args.field_value_range[1])\n",
    "    # 裁剪数值 指定范围之外的数值对应的是与沉降不相关的粒子\n",
    "    # 由于该数值范围落在0-255内 我们即可将之直接视为像素值的大小  \n",
    "    img_arr = img_arr.astype(\"uint8\")\n",
    "    # 从浮点变为整型 否则绘图时候许多库都不支持 参见3.1 同时也减少了数组大小\n",
    "    # 但训练时还要将之转回浮点数 因为模型参数需要是浮点数 以便尽可能精确地拟合标签\n",
    "    # 这步要放到各种处理的最后 尽量减少近似误差\n",
    "    \n",
    "    if_required = check_if_single_img_covers_intense_precip(img_arr)\n",
    "    \n",
    "    return img_arr, if_required"
   ]
  },
  {
   "cell_type": "code",
   "execution_count": 20,
   "metadata": {},
   "outputs": [
    {
     "data": {
      "text/plain": [
       "'\\npath = r\"G:\\\\我的云端硬盘\\\\MyProjects\\\\Weather Nowcasting\\\\XMB-7\\\\KFWS_Sigmet\\x820-01-03\\\\KFWS20200103_060305_V06\"\\nradar_data = pyart.io.read(path).extract_sweeps([0])\\ngrid_limits1 = ((0., 20000.), (-3e5, 3e5), (-3e5, 3e5))\\ngrid_limits2 = ((0, 236), (-3e5, 3e5), (-3e5, 3e5))\\ngrid_limits3 = ((236., 20000.), (-3e5, 3e5), (-3e5, 3e5))\\ntemp = []\\nfor i in range(3):\\n    grid = pyart.map.grid_from_radars(\\n        radar_data, fields=[args.field],\\n        grid_shape=args.grid_shape, grid_limits=eval(f\"grid_limits{i + 1}\"),\\n        weighting_function=\"BARNES2\")\\n    img_arr = grid.fields[f\"{args.field}\"][\"data\"].data[0]\\n    img_arr = np.ma.filled(img_arr, fill_value=0)\\n    img_arr = np.clip(img_arr, args.field_value_range[0], args.field_value_range[1])\\n    img_arr = np.rint(img_arr / args.field_value_range[1] * 255)                \\n    # img_arr = img_arr.astype(\"uint8\")\\n    # 特意注释掉了这句\\n    temp.append(img_arr)\\nimg1 = Image.fromarray(np.uint8(temp[0]))\\n# 如果不特意将数据类型转化为np.uint8 稍后打印输出图像是显示不出来的\\nimg2 = Image.fromarray(np.uint8(temp[1]))\\nimg3 = Image.fromarray(np.uint8(temp[2]))\\nprint((temp[0] == temp[1]).all(), (temp[0] == temp[2]).all(), (temp[1] == temp[2]).all())\\nprint(temp[0].sum(), temp[1].sum(), temp[2].sum())\\n# img1, img2, img3\\nimg1\\n\\n'"
      ]
     },
     "execution_count": 20,
     "metadata": {},
     "output_type": "execute_result"
    }
   ],
   "source": [
    "\"\"\"\n",
    "args.grid_limits = ((0., 20000.), (-3e5, 3e5), (-3e5, 3e5))\n",
    "(x, y)范围是否过大 Cuomo用的是(-1.5e5, 1.5e5), (-1.5e5, 1.5e5)\n",
    "再者z的范围设为(0., 20000.)是否合适 Cuomo用的是(radar.altitude['data'][0], 20000) ⁉️\n",
    "\n",
    "找了一个文件试了一下 radar.altitude['data']=[236.]\n",
    "所以z的范围在我看来最标准的设法应该是(236, 236) 其余都一样 因为只有236这一高度才有数据\n",
    "而写成(0., 20000.)或(radar.altitude['data'][0], 20000)则是为了普适 方便其它应用场合读取进来多个扫描数据\n",
    "但事实却并非如此 暂时无法解释以下代码结果\n",
    "\n",
    "\"\"\"\n",
    "\n",
    "'''\n",
    "path = r\"G:\\我的云端硬盘\\MyProjects\\Weather Nowcasting\\XMB-7\\KFWS_Sigmet\\2020-01-03\\KFWS20200103_060305_V06\"\n",
    "radar_data = pyart.io.read(path).extract_sweeps([0])\n",
    "grid_limits1 = ((0., 20000.), (-3e5, 3e5), (-3e5, 3e5))\n",
    "grid_limits2 = ((0, 236), (-3e5, 3e5), (-3e5, 3e5))\n",
    "grid_limits3 = ((236., 20000.), (-3e5, 3e5), (-3e5, 3e5))\n",
    "temp = []\n",
    "for i in range(3):\n",
    "    grid = pyart.map.grid_from_radars(\n",
    "        radar_data, fields=[args.field],\n",
    "        grid_shape=args.grid_shape, grid_limits=eval(f\"grid_limits{i + 1}\"),\n",
    "        weighting_function=\"BARNES2\")\n",
    "    img_arr = grid.fields[f\"{args.field}\"][\"data\"].data[0]\n",
    "    img_arr = np.ma.filled(img_arr, fill_value=0)\n",
    "    img_arr = np.clip(img_arr, args.field_value_range[0], args.field_value_range[1])\n",
    "    img_arr = np.rint(img_arr / args.field_value_range[1] * 255)                \n",
    "    # img_arr = img_arr.astype(\"uint8\")\n",
    "    # 特意注释掉了这句\n",
    "    temp.append(img_arr)\n",
    "img1 = Image.fromarray(np.uint8(temp[0]))\n",
    "# 如果不特意将数据类型转化为np.uint8 稍后打印输出图像是显示不出来的\n",
    "img2 = Image.fromarray(np.uint8(temp[1]))\n",
    "img3 = Image.fromarray(np.uint8(temp[2]))\n",
    "print((temp[0] == temp[1]).all(), (temp[0] == temp[2]).all(), (temp[1] == temp[2]).all())\n",
    "print(temp[0].sum(), temp[1].sum(), temp[2].sum())\n",
    "# img1, img2, img3\n",
    "img1\n",
    "\n",
    "'''\n",
    "\n",
    "# ? 离谱的是 尝试给z的范围设置不同的值 比如(0, 0), (2e4, -2e4), (236, 236)等等\n",
    "# ? 你会看到各种违背前述认知的代码结果 典型例如(0., 20000.)和(0., 236.)相同却和(236., 20000.)不同\n",
    "# ? 其它还有数值判断上相等但图画出来却不同的情况\n",
    "# ? 有时间再探究 反正所有数据都取(0., 20000.) 对模型学习而言应该是没什么影响的\n",
    "\n",
    "# ? args.grid_shape = (1, 128, 128)\n",
    "# ? 因为绘制的是俯视平面图 所以20000m的垂直数据直接就压成一个网格点即可?\n",
    "# ? 然后再各选用128个网格点覆盖横纵60000m的范围 从而使得每个像素代表一个网格点?"
   ]
  },
  {
   "cell_type": "code",
   "execution_count": 21,
   "metadata": {
    "ExecuteTime": {
     "end_time": "2021-10-30T01:40:55.963112Z",
     "start_time": "2021-10-30T01:40:55.941772Z"
    },
    "code_folding": [
     0
    ],
    "id": "CY2jBYAFQNpo"
   },
   "outputs": [],
   "source": [
    "def save_image_plots(file_count): \n",
    "\n",
    "    \"\"\"\n",
    "    Discription\n",
    "    ---\n",
    "    Extract radar data from numerous sigmet files as 2D arrays, then make transformations\n",
    "    for better plotting and finally save all the plots into different folders \n",
    "    according to their specific dates.\n",
    "    The filenames delibrately designed to include both the time info and the content info,\n",
    "    which means if each image covers intense precipitation content.\n",
    "    \n",
    "    Parameters\n",
    "    ---\n",
    "    file_count : int\n",
    "        The number of radar data files having been downloaded, which indicates\n",
    "        the total amount of plots shold be saved.\n",
    "        It is used for counting how many plots have been saved so far.\n",
    "\n",
    "    \"\"\"\n",
    "    \n",
    "    count = 0\n",
    "    for date in args.dates:\n",
    "        #>> 设置并创建用于保存各数组的各文件夹的共同上级目录\n",
    "        if use_colab:\n",
    "            root = \"/content/drive/MyDrive/MyProjects/Weather Nowcasting/XMB-7\"\n",
    "            save_dir = f\"{root}/{args.img_root}/{date}\"\n",
    "            # 注意 现在保存的是已处理过的图像数组 而非原始雷达数据\n",
    "            # 所以此时当然就要指明图像大小 因为图像大小不同图像数组也就不同\n",
    "        else:\n",
    "            save_dir = f\"{args.img_root}/{date}\"\n",
    "        os.makedirs(save_dir, exist_ok=True)\n",
    "        \n",
    "        files_dir = f\"{args.file_root}/{date}\"\n",
    "        files = os.listdir(files_dir)\n",
    "        \n",
    "        #>> 按天逐个文件抽取数据 转成图像数组 然后同天的都存储到同一个文件夹里\n",
    "        if os.path.exists(save_dir) and \\\n",
    "        len(files) == len(os.listdir(save_dir)):\n",
    "        # 若该天的数据之前曾经绘图过 则直接计数\n",
    "            count += len(files)\n",
    "            print(f\"{count}/{file_count} data files plotted and saved in groups...\")\n",
    "            \n",
    "        else:\n",
    "        # 若该天的数据之前未曾绘图过 则开始绘图并将之保存\n",
    "            for file in files:\n",
    "                file_path = os.path.join(files_dir, file)\n",
    "                radar_data = pyart.io.read(file_path).extract_sweeps([0]) \n",
    "                # 只提取首次扫描水平面的数据 减少读取的数据量\n",
    "                img_arr, if_required = get_single_image_array_with_precip_flag(radar_data)\n",
    "                precip_sign = args.precip_sign if if_required else \"\"\n",
    "                save_path = f\"{save_dir}/{file[4: -4]}{precip_sign}.png\" \\\n",
    "                if len(file) == 23 \\\n",
    "                else f\"{save_dir}/{file[4: -8]}{precip_sign}.png\"\n",
    "                # 以时间点为名来保存图像\n",
    "                # 原始雷达文件名共有两种 一种长度为23 一种长度为27\n",
    "                # 同时还以沉降标志为名来保存图像 从而为稍后数据集的构建提供方便\n",
    "                img = Image.fromarray(img_arr)\n",
    "                # 如前所述 经处理的雷达数据的二维数组天然就是一幅黑白图像\n",
    "                img.save(save_path)\n",
    "                count += 1\n",
    "                print(f\"{count}/{file_count} data files plotted and saved in groups...\")\n",
    "                  \n",
    "    print()\n",
    "    print(\"Saving plots all finished.\")\n",
    "    print()\n",
    "    \n",
    "    # ? 这里其实完全可以把后续处理一并做了 毕竟都做了循环了\n",
    "    # ? 亦即不绘图存图了 就直接照着雷达文件来构造Dataset实例和Dataloader实例 在前者中组装序列 在后者中读取图像\n",
    "    # ? 但应该需要挺长时间 所以这里还是选择分开\n",
    "    # ? 再者对新手也更友好 毕竟可以看到雷达图像的样子\n",
    "    # ? 但理论上整个过程其实完全可以封装成一个类 比如就叫DataConstructor 直接用来生成三个数据集\n",
    "    # ? 可以尝试一下 看看只读取数组但不保存图像的代码运行时间如何 \n",
    "    # ? 如果每次训练都在生成dataloader那里大量消耗时间 就还不如把绘图存图分离出来先行做完 后续就不必重复了"
   ]
  },
  {
   "cell_type": "code",
   "execution_count": 22,
   "metadata": {
    "ExecuteTime": {
     "end_time": "2021-10-30T01:40:55.982572Z",
     "start_time": "2021-10-30T01:40:55.966208Z"
    },
    "code_folding": [
     0
    ],
    "id": "ZllRtpfpQNpo"
   },
   "outputs": [],
   "source": [
    "def get_improper_dates():\n",
    "    \"\"\"\n",
    "    Discription\n",
    "    ---\n",
    "    Check wihch dates have enough images (args.thresholds[\"sequence\"]) \n",
    "    with the precipitation flag \"_P\" in their filenames. \n",
    "    \n",
    "    Reutrns\n",
    "    ---\n",
    "    imp_dates : list\n",
    "        A list of dates that aren't desired for training.\n",
    "    imp_ratio : float\n",
    "        The ratio that the desired dates accouts for. \n",
    "        I think it would be better for training when exceeding 70%. \n",
    "    \"\"\"\n",
    "    imp_dates = []\n",
    "    for date in args.dates: \n",
    "        count = 0\n",
    "        img_dir = os.path.join(args.img_root, date)\n",
    "        imgs = os.listdir(img_dir)\n",
    "        for img in imgs:\n",
    "            if args.precip_sign in img:\n",
    "                count += 1\n",
    "        \n",
    "        if count < args.thresholds[\"sequence\"]:\n",
    "            imp_dates.append(date)\n",
    "            \n",
    "        imp_ratio = len(imp_dates) / len(args.dates)\n",
    "        \n",
    "    return imp_dates, imp_ratio"
   ]
  },
  {
   "attachments": {},
   "cell_type": "markdown",
   "metadata": {
    "id": "S7mgL4u6QNpo"
   },
   "source": [
    "# Datasets of Image Sequences"
   ]
  },
  {
   "cell_type": "code",
   "execution_count": 23,
   "metadata": {},
   "outputs": [],
   "source": [
    "%run _1_arguments"
   ]
  },
  {
   "attachments": {},
   "cell_type": "markdown",
   "metadata": {
    "heading_collapsed": true,
    "id": "B2v-XOulQNpq"
   },
   "source": [
    "##### Notes"
   ]
  },
  {
   "cell_type": "code",
   "execution_count": 24,
   "metadata": {
    "ExecuteTime": {
     "end_time": "2021-10-30T01:40:56.002427Z",
     "start_time": "2021-10-30T01:40:55.984319Z"
    },
    "code_folding": [
     0
    ],
    "hidden": true,
    "id": "2yXa9oYPQNpq"
   },
   "outputs": [],
   "source": [
    "# 如前所述 该部分或许会把上面的函数都囊括进来封装成一个类 比如DataConstructor\n",
    "# 具体有待试验 但是感觉会很耗时 反而得不偿失 ⁉️"
   ]
  },
  {
   "cell_type": "code",
   "execution_count": 25,
   "metadata": {
    "ExecuteTime": {
     "end_time": "2021-10-30T01:40:56.021760Z",
     "start_time": "2021-10-30T01:40:56.004209Z"
    },
    "code_folding": [
     0
    ],
    "hidden": true,
    "id": "yqHzzcCOQNpq"
   },
   "outputs": [],
   "source": [
    "# 提取图像数组 排成序列 构造训练集验证集和测试集 滤除训练集中沉降强度过低的序列\n",
    "# 对一个图像序列中的每个图片都做一个平均池化 \n",
    "# 如果某一卷积结果里面有x个数值超过了阈值 那么对应的那一张图像就会被算作沉降强度较高\n",
    "# 而一个图像序列中只要包含了y个沉降强度较高的图像 那么该图像序列作为一个整体就会被算作沉降强度较高\n",
    "# 同时还要提取图像序列的时间信息序列 一方面用于绘图 另一方面用于训练"
   ]
  },
  {
   "cell_type": "code",
   "execution_count": 26,
   "metadata": {
    "ExecuteTime": {
     "end_time": "2021-10-30T01:40:56.040251Z",
     "start_time": "2021-10-30T01:40:56.023585Z"
    },
    "code_folding": [
     0
    ],
    "hidden": true,
    "id": "1t6h95MgQNpq"
   },
   "outputs": [],
   "source": [
    "# 数据增广可以做 但只能以序列为单位进行数据增广 时间信息不变\n",
    "# 索性干脆别做了 反正数据充足 ⁉️"
   ]
  },
  {
   "attachments": {},
   "cell_type": "markdown",
   "metadata": {
    "heading_collapsed": true,
    "id": "v9BybRGFQNpq"
   },
   "source": [
    "##### Preparatory Importing"
   ]
  },
  {
   "cell_type": "code",
   "execution_count": 27,
   "metadata": {
    "ExecuteTime": {
     "end_time": "2021-11-01T02:36:23.903107Z",
     "start_time": "2021-11-01T02:36:22.663652Z"
    },
    "hidden": true,
    "id": "seRSRHqlQNps",
    "init_cell": true
   },
   "outputs": [],
   "source": [
    "from PIL import Image\n",
    "import time\n",
    "from datetime import datetime\n",
    "from torch.utils.data import Dataset, DataLoader\n",
    "import numpy as np"
   ]
  },
  {
   "attachments": {},
   "cell_type": "markdown",
   "metadata": {
    "id": "dwJ76amqQNps"
   },
   "source": [
    "##### Functions"
   ]
  },
  {
   "cell_type": "code",
   "execution_count": 28,
   "metadata": {
    "ExecuteTime": {
     "end_time": "2021-10-30T01:41:10.213067Z",
     "start_time": "2021-10-30T01:41:10.209982Z"
    },
    "code_folding": [],
    "id": "cPCvDaUyQNps",
    "run_control": {
     "marked": false
    }
   },
   "outputs": [],
   "source": [
    "def check_if_seq_covers_intense_precip(path_seq):\n",
    "    \"\"\"\n",
    "    Description\n",
    "    ---\n",
    "    Given a sequence of image names, extract the intense precipitation info\n",
    "    and count how many images are with the '_P' flag. \n",
    "    If exceeds the given threshold, considered this sequence as required for training.\n",
    "    \n",
    "    Parameters\n",
    "    ---\n",
    "    path_seq : list\n",
    "        A single sequence of image paths.\n",
    "    \n",
    "    Returns\n",
    "    ---\n",
    "    if_required : bool\n",
    "        A flag to indicate if a image sequence is required for training.\n",
    "    \"\"\"\n",
    "    assert args.thresholds[\"sequence\"] <= len(path_seq), \"Not adequate frames in a sequence.\"\n",
    "    # ? 有看到文章说不宜多用assert 不如用if...else...来控制\n",
    "    \n",
    "    count = 0\n",
    "    for path in path_seq:\n",
    "        if args.precip_sign in path[-6:]:\n",
    "        # 这般检测\"_P\"只出现一次\n",
    "        # 避免路径里面还含有\"_P\" \n",
    "            count += 1\n",
    "            \n",
    "    if count >= args.thresholds[\"sequence\"]:\n",
    "        if_required = True\n",
    "    else:\n",
    "        if_required = False\n",
    "        \n",
    "    return if_required\n",
    "\n",
    "# 如前所述 这个函数未必要用 因为想让机器学到沉降形成和消弭的过程\n",
    "# 所以只筛选强沉降发生的日期即可 只要该天之中有一张图像是强沉降的 那么全天的数据就都用来学习\n",
    "# 但也把握一下分寸 也别所有天数都只有几张图像是强沉降的 所以也要适当对强沉降天数做一个简单的筛选\n",
    "# ? 突然想到 这里是不是应该要把数据做一下加权 在提取数组那里进行"
   ]
  },
  {
   "cell_type": "code",
   "execution_count": 29,
   "metadata": {
    "ExecuteTime": {
     "end_time": "2021-10-30T01:41:10.234413Z",
     "start_time": "2021-10-30T01:41:10.214842Z"
    },
    "code_folding": [
     0
    ],
    "id": "YqZmdSr8QNps"
   },
   "outputs": [],
   "source": [
    "def get_time_difference(img_time, pre_img_time):\n",
    "    \"\"\"\n",
    "    Discription\n",
    "    ---\n",
    "    Get time difference in seconds between two contineous iamges in a sequence.\n",
    "    \n",
    "    Parameters\n",
    "    ---\n",
    "    img_time, pre_img_time : datetime instance\n",
    "        The time info of an image as a datetime instance in a sequence.\n",
    "    pre_img_time : datetime instance\n",
    "        The time info of the previous one as a datetime instance in the same sequence.\n",
    "    \n",
    "    \"\"\"\n",
    "\n",
    "    time_delta = img_time - pre_img_time\n",
    "    # time difference in seconds\n",
    "    time_delta_in_seconds = datetime.timedelta(time_delta.days, time_delta.seconds).total_seconds() \n",
    "    # correction for negative numbers\n",
    "    \n",
    "    return time_delta_in_seconds\n",
    "\n",
    "    # 这个算时间差暂时没用上 先来看看引入绝对时间的效果 但效果很可能不如引入时间差 因为模型复杂度包括数据复杂度不足以支撑预测绝对时间\n",
    "    # 然后再考虑引入相对时间也即时间差\n",
    "    # 但即便引入的是绝对时间 这个函数也能在画图的时候用上 无非就是放到哪一部分而已"
   ]
  },
  {
   "cell_type": "code",
   "execution_count": 30,
   "metadata": {
    "ExecuteTime": {
     "end_time": "2021-10-30T01:41:10.253648Z",
     "start_time": "2021-10-30T01:41:10.236222Z"
    },
    "code_folding": [
     0
    ],
    "id": "-RFqYIN-QNps",
    "run_control": {
     "marked": false
    }
   },
   "outputs": [],
   "source": [
    "# def collate_function(data):\n",
    "#     \"\"\"\n",
    "#     data: list for a batch of samples, \n",
    "#     [[pathstr, datatensor, pathstr], ..., [pathstr, datatensor, pathstr]]\n",
    "#     \"\"\"\n",
    "#     transposed_data = list(zip(*data))\n",
    "#     paths, imgs, timestamps = transposed_data[0], transposed_data[1]\n",
    "#     imgs = torch.stack(imgs, 0)\n",
    "#     return paths, imgs, timestamps\n",
    "\n",
    "# # ? 暂时可以不予关心 我把datetime实例转化为浮点型时间戳了 \n",
    "# # ? 如果直接使用前者 应该就需要该函数了 否则dataloader在生成批量时会出问题 不能预读取\n",
    "# # ? https://blog.csdn.net/liekkas_javey/article/details/87359648\n",
    "# # ? https://blog.csdn.net/weixin_43590796/article/details/119663585\n",
    "\n",
    "# '''\n",
    "# # dataloader = torch.utils.data.DataLoader(\n",
    "# #     Dataset(transforms=data_transforms, train=False),\n",
    "# #     batch_size=2, collate_fn=collate_function, shuffle=True, \n",
    "# #     num_workers=1, pin_memory=True\n",
    "# # )\n",
    "# '''\n",
    "# # 不确定用不用 ⁉️"
   ]
  },
  {
   "cell_type": "code",
   "execution_count": 31,
   "metadata": {
    "ExecuteTime": {
     "end_time": "2021-10-30T01:41:10.273421Z",
     "start_time": "2021-10-30T01:41:10.255447Z"
    },
    "code_folding": [],
    "id": "zhHCq9KFQNpu",
    "run_control": {
     "marked": false
    }
   },
   "outputs": [],
   "source": [
    "def get_dataloaders():  \n",
    "    tr_dataset = MyDataset(mode=\"train\")\n",
    "    vl_dataset = MyDataset(mode=\"validation\")\n",
    "    tt_dataset = MyDataset(mode=\"test\")\n",
    "    \n",
    "    tr_dataloader = DataLoader(\n",
    "        tr_dataset,\n",
    "        batch_size=args.batch_size,\n",
    "        shuffle=True,\n",
    "        num_workers=4,\n",
    "        # ? 如果出错 可以尝试把该语句注释掉 \n",
    "        # ? 这个或许是由Dataset的__getitem__返回如字符串等非数值对象被Dataloader生成了批量所致 \n",
    "        # ? 此时可能就得定义上面介绍的那个collate_function函数 ⁉️\n",
    "        drop_last=True\n",
    "        # 最后一批可能不满 算误差时比较麻烦 \n",
    "        # 索性直接去掉 反正数据够多\n",
    "    )  \n",
    "    vl_dataloader = DataLoader(\n",
    "        vl_dataset,\n",
    "        batch_size=args.batch_size,\n",
    "        shuffle=False,\n",
    "        num_workers=4,\n",
    "        drop_last=True\n",
    "    )\n",
    "    tt_dataloader = DataLoader(\n",
    "        tt_dataset,\n",
    "        batch_size=args.batch_size,\n",
    "        shuffle=True,\n",
    "        num_workers=4,\n",
    "        drop_last=True\n",
    "    )\n",
    "    \n",
    "    return tr_dataloader, vl_dataloader, tt_dataloader"
   ]
  },
  {
   "attachments": {},
   "cell_type": "markdown",
   "metadata": {
    "id": "SContWnBQNpu"
   },
   "source": [
    "##### Classes"
   ]
  },
  {
   "cell_type": "code",
   "execution_count": 32,
   "metadata": {
    "ExecuteTime": {
     "end_time": "2021-10-30T01:41:10.295773Z",
     "start_time": "2021-10-30T01:41:10.275262Z"
    },
    "code_folding": [],
    "id": "Uk1PMRMOQNpu"
   },
   "outputs": [],
   "source": [
    "class MyDataset(Dataset):\n",
    "    def __init__(self, mode='train'):\n",
    "        assert mode in ('train', 'validation', 'test'), \\\n",
    "        \"Only accept 'train', 'validation' or 'test' for dataset construction.\"\n",
    "        # 看到文章说不宜多使用assert 不如用if...else...来控制 ⁉️\n",
    "        \n",
    "        self.path_seqs = []\n",
    "        # 用于存储图像序列所对应的路径序列 \n",
    "        # 稍后在__getitem__里面呢 则会照着路径序列当场读取图像序列\n",
    "        \n",
    "        # 根据日期粗略划分训练集以及验证集 >\n",
    "        # 确保验证集要和训练集在时间上务必完全错开 \n",
    "        # 否则验证集中部分序列很可能会和训练集中部分序列长得过于相像 \n",
    "        # 这是一种数据泄露\n",
    "        # \n",
    "        sep_idx = int((len(args.dates) - 1) * args.part_ratio)\n",
    "        # 这里不能用整除 因为除数是浮点数 会导致整除结果其实也为浮点数\n",
    "        # 而浮点数无法作为索引\n",
    "        # \n",
    "        # 但这里其实是取巧了 因为每日数据并不是等量的 \n",
    "        # 所以按日期二八分 其实不能保证训练序列和测试序列也是二八分\n",
    "        # 暂且搁置 有时间再处理 ⁉️\n",
    "        assert sep_idx >= 1, \\\n",
    "        \"Inadequate date amount for creating a validation dateset.\"\n",
    "        \n",
    "        if mode == 'test':\n",
    "            dates = args.dates[-1:] \n",
    "            # 最后一天的数据用作测试集\n",
    "        elif mode == 'validation':\n",
    "            dates = args.dates[sep_idx: -1]\n",
    "            # 其余天数按比例分为训练集和测试集\n",
    "        else:\n",
    "            dates = args.dates[: sep_idx]\n",
    "            \n",
    "        for date in dates: \n",
    "            img_dir = os.path.join(args.img_root, date)\n",
    "            imgs = os.listdir(img_dir)\n",
    "            img_paths = [os.path.join(img_dir, img) for img in imgs]\n",
    "            img_paths.sort()\n",
    "            # 这个排序必须要有 否则图片之间是时间乱序的\n",
    "            \n",
    "            for i in range(len(img_paths) - args.n_seq + 1):\n",
    "                path_seq = img_paths[i: i + args.n_seq]\n",
    "                self.path_seqs.append(path_seq)\n",
    "                \n",
    "                '''\n",
    "                # 如前所述 这个函数未必要用 因为想让机器学到沉降形成和消弭的过程 >\n",
    "                # 所以只筛选强沉降发生的日期即可 只要该天之中有一张图像是强沉降的 那么全天的数据就都用来学习\n",
    "                # 但要把握一下分寸 也别所有天数都只有几张图像是强沉降的 所以也要适当对强沉降天数做一个简单的筛选\n",
    "                # \n",
    "                if mode == 'train' \\\n",
    "                and check_if_seq_covers_intense_precip(path_seq):\n",
    "                # 只有训练集需要去除沉降强度较低的序列 验证集和测试集则不必\n",
    "                    self.path_seqs.pop()\n",
    "                \n",
    "                '''\n",
    "    \n",
    "    def __getitem__(self, index):\n",
    "        seq = {}\n",
    "        # 用于存储图像序列所对应的空间信息以及时间信息\n",
    "        seq[\"data\"], seq[\"labels\"] = [], []\n",
    "        # 用于存储图像序列的数据\n",
    "        seq[\"timestamps\"] = []\n",
    "        # 用于存储图像序列的时间戳\n",
    "        \n",
    "        for i in range(args.n_seq):\n",
    "            img_path = self.path_seqs[index][i]\n",
    "            img = Image.open(img_path)\n",
    "            img = np.asarray(img)\n",
    "            # img = img[np.newaxis, ...]\n",
    "            # # 增加channel维度 虽然这里乃是1 其实没有必要增加 但有助于其它任务\n",
    "            if i < args.n_inputs:\n",
    "                seq[\"data\"].append(img)\n",
    "            else:\n",
    "                seq[\"labels\"].append(img)\n",
    "            \n",
    "            img_timestamp = os.path.basename(img_path)[: 15]\n",
    "            # img_timestamp = datetime.strptime(img_timestamp, \"%Y%m%d_%H%M%S\")\n",
    "            # img_timestamp = time.mktime(img_timestamp.timetuple())\n",
    "            # # 将datetime实例转化为浮点数的时间戳 这样方便构建dataloader实例\n",
    "            # # 稍后画图时候再将之转化回来就好\n",
    "            # # 似乎没有必要 就保存字符串就好了 有了这个信息 后续怎么处理都行 ⁉️\n",
    "            seq[\"timestamps\"].append(img_timestamp)\n",
    "            \n",
    "        seq[\"data\"] = np.asarray(seq[\"data\"]).astype(np.float32)\n",
    "        seq[\"labels\"] = np.asarray(seq[\"labels\"]).astype(np.float32)\n",
    "        # seq[\"timestamps\"] = np.asarray(seq[\"timestamps\"])\n",
    "        \n",
    "        return seq\n",
    "    \n",
    "    def __len__(self):\n",
    "        return len(self.path_seqs)"
   ]
  },
  {
   "cell_type": "code",
   "execution_count": 33,
   "metadata": {},
   "outputs": [],
   "source": [
    "import os\n",
    "tr_dataloader, vl_dataloader, _ = get_dataloaders()\n",
    "for batch in tr_dataloader:\n",
    "    break\n",
    "\n",
    "# len(batch['timestamps']) = 30\n",
    "# len(batch['timestamps'][0]) = 16\n",
    "# 这很不对劲 明显是反了啊 ⁉️\n",
    "# 但数据又正常 batch['data'].shape = torch.Size([16, 6, 128, 128])\n",
    "# 还特意画了图 经过检验就是时间戳有问题\n",
    "# 不知为何 只能在稍后使用中注意\n",
    "# 需要多加一步 [sublist[0] for sublist in batch['timestamps']]"
   ]
  },
  {
   "cell_type": "code",
   "execution_count": 34,
   "metadata": {},
   "outputs": [],
   "source": [
    "# # 顺手验证下是否等间隔采样 >\n",
    "\n",
    "# tmp = [sublist[0] for sublist in batch['timestamps']]\n",
    "\n",
    "# for i in range(29):\n",
    "#     timestamp1 = tmp[i]\n",
    "#     timestamp2 = tmp[i+1]\n",
    "    \n",
    "#     # 将时间戳拆分成小时分钟和秒数\n",
    "#     h1, m1, s1 = int(timestamp1[-6:-4]), int(timestamp1[-4:-2]), int(timestamp1[-2:])\n",
    "#     h2, m2, s2 = int(timestamp2[-6:-4]), int(timestamp2[-4:-2]), int(timestamp2[-2:])\n",
    "\n",
    "#     # 计算时间差值\n",
    "#     seconds_diff = (h2 - h1) * 3600 + (m2 - m1) * 60 + (s2 - s1)\n",
    "\n",
    "#     print('时间差值为 {} 秒'.format(seconds_diff))"
   ]
  },
  {
   "cell_type": "code",
   "execution_count": 35,
   "metadata": {},
   "outputs": [
    {
     "data": {
      "image/png": "[encoded data removed]",
      "text/plain": [
       "<Figure size 640x480 with 6 Axes>"
      ]
     },
     "metadata": {},
     "output_type": "display_data"
    }
   ],
   "source": [
    "import matplotlib.pyplot as plt\n",
    "\n",
    "fig, axs = plt.subplots(1, 6)\n",
    "\n",
    "for i in range(len(batch['data'][0])):\n",
    "    axs[i].imshow(batch['data'][0][i].squeeze())\n",
    "  \n",
    "plt.show()"
   ]
  },
  {
   "cell_type": "markdown",
   "metadata": {
    "id": "O5NZP4WZQNpu"
   },
   "source": [
    "# Construct Models"
   ]
  },
  {
   "attachments": {},
   "cell_type": "markdown",
   "metadata": {
    "id": "VKoEnsEGQNpx"
   },
   "source": [
    "##### Notes"
   ]
  },
  {
   "cell_type": "code",
   "execution_count": 36,
   "metadata": {
    "ExecuteTime": {
     "end_time": "2021-10-30T01:41:10.315767Z",
     "start_time": "2021-10-30T01:41:10.297522Z"
    },
    "code_folding": [],
    "id": "Qa6lXHtEQNpx"
   },
   "outputs": [],
   "source": [
    "# 构建多种模型 然后选择其中一种进行训练\n",
    "# 暂时只做了ConvLSTM ⁉️"
   ]
  },
  {
   "attachments": {},
   "cell_type": "markdown",
   "metadata": {
    "id": "d9ILURnzQNpx"
   },
   "source": [
    "##### Dependencies"
   ]
  },
  {
   "cell_type": "code",
   "execution_count": 37,
   "metadata": {
    "ExecuteTime": {
     "end_time": "2021-10-30T06:02:08.778758Z",
     "start_time": "2021-10-30T11:52:49.819Z"
    },
    "id": "77Zg6nRDQNpx"
   },
   "outputs": [],
   "source": [
    "from torch import nn\n",
    "from torch.autograd import Variable\n",
    "from torch.nn import functional as func"
   ]
  },
  {
   "attachments": {},
   "cell_type": "markdown",
   "metadata": {
    "id": "wC992-ZkQNpx"
   },
   "source": [
    "##### Functions"
   ]
  },
  {
   "attachments": {},
   "cell_type": "markdown",
   "metadata": {
    "id": "u7qRWNATQNpz"
   },
   "source": [
    "##### LSTM"
   ]
  },
  {
   "cell_type": "code",
   "execution_count": 38,
   "metadata": {
    "ExecuteTime": {
     "end_time": "2021-10-30T01:41:10.377790Z",
     "start_time": "2021-10-30T01:41:10.358132Z"
    },
    "code_folding": [
     0
    ],
    "id": "VCs1o4WyQNpz"
   },
   "outputs": [],
   "source": [
    "class ConvLSTMCell(nn.Module):\n",
    "    def __init__(self, shape, input_channel, filter_size, hidden_size):\n",
    "        super().__init__()\n",
    "        \n",
    "        self._shape = shape\n",
    "        self._input_channel = input_channel\n",
    "        self._filter_size = filter_size\n",
    "        self._hidden_size = hidden_size\n",
    "        self._conv = nn.Conv2d(\n",
    "            in_channels=self._input_channel + self._hidden_size, \n",
    "            # hidden state has similar spational struture as inputs \n",
    "            # we simply concatenate them on the feature dimension\n",
    "            #\n",
    "            # 注意 该模块的输入 来自前置其它模块 已经并非原始图像 而是一个多通道的\n",
    "            out_channels=self._hidden_size * 4, \n",
    "            # lstm has four gates\n",
    "            kernel_size=self._filter_size,\n",
    "            stride=1,\n",
    "            padding=1\n",
    "        )\n",
    "        # convlstmcell只内含一个卷积层 如果觉得太少 可以多层convlstmcell\n",
    "        # 实际上convlstm=cnn+convlstmcell 它和cnn+lstmcell不同\n",
    "\n",
    "    # def forward(self, x, state):\n",
    "    #     _hidden, _cell = state\n",
    "    #     cat_x = torch.cat([x, _hidden], dim=1) \n",
    "    #     Conv_x = self._conv(cat_x)\n",
    "\n",
    "    #     i, f, o, g = torch.chunk(Conv_x, 4, dim=1)\n",
    "\n",
    "    #     i = func.sigmoid(i)\n",
    "    #     f = func.sigmoid(f)\n",
    "    #     cell = _cell * f + i * func.tanh(g)\n",
    "    #     o = func.sigmoid(o)\n",
    "    #     hidden = o * func.tanh(cell)\n",
    "\n",
    "    #     return hidden, cell\n",
    "\n",
    "    def forward(self, x, out_0):\n",
    "    # 完全可以直接传入h_0 c_0 无非就是外面调用该模块时传参方式改变一下\n",
    "    # 暂时就不做了 ⁉️\n",
    "        h_0, c_0 = out_0\n",
    "        cat_x = torch.cat([x, h_0], dim=1) \n",
    "        conv_x = self._conv(cat_x)\n",
    "\n",
    "        i, f, o, g = torch.chunk(conv_x, 4, dim=1)\n",
    "\n",
    "        i = func.sigmoid(i)\n",
    "        f = func.sigmoid(f)\n",
    "        c = f * c_0 + i * func.tanh(g)\n",
    "        o = func.sigmoid(o)\n",
    "        h = o * func.tanh(c)\n",
    "\n",
    "        return h, c"
   ]
  },
  {
   "cell_type": "code",
   "execution_count": 39,
   "metadata": {
    "ExecuteTime": {
     "end_time": "2021-10-30T01:41:10.410814Z",
     "start_time": "2021-10-30T01:41:10.379728Z"
    },
    "code_folding": [
     0
    ],
    "id": "d_HblLnjQNpz"
   },
   "outputs": [],
   "source": [
    "class ConvLSTM(nn.Module):\n",
    "    def __init__(self):\n",
    "        super().__init__()\n",
    "\n",
    "        self.conv_pad = 0\n",
    "        self.conv_kernel_size = 3\n",
    "        self.conv_stride = 1\n",
    "        self.pool_pad = 0\n",
    "        self.pool_kernel_size = 3\n",
    "        self.pool_stride = 3\n",
    "        self.hidden_size = 64\n",
    "        self.size = int(\n",
    "            (args.img_size[0] + 2 * self.conv_pad - (self.conv_kernel_size - 1) - 1) \\\n",
    "            / self.conv_stride + 1\n",
    "        )\n",
    "        self.size1 = int(\n",
    "            (self.size + 2 * self.pool_pad - (self.pool_kernel_size - 1) - 1) \\\n",
    "            /self.pool_stride + 1\n",
    "        )\n",
    "        \n",
    "        self.conv = nn.Conv2d(\n",
    "             in_channels=1,\n",
    "             out_channels=8,\n",
    "             kernel_size=3,\n",
    "             stride=1,\n",
    "             padding=0\n",
    "        )\n",
    "        self.pool = nn.MaxPool2d(kernel_size=3)\n",
    "        self.convlstm1 = ConvLSTMCell(\n",
    "            shape=[self.size1, self.size1], \n",
    "            input_channel=8, \n",
    "            filter_size=3,\n",
    "            hidden_size=self.hidden_size\n",
    "        )\n",
    "        self.convlstm2 = ConvLSTMCell(\n",
    "            shape=[self.size1, self.size1], \n",
    "            input_channel=self.hidden_size, \n",
    "            filter_size=3,\n",
    "            hidden_size=self.hidden_size\n",
    "        )\n",
    "        self.deconv = nn.ConvTranspose2d(\n",
    "            in_channels=self.hidden_size, \n",
    "            out_channels=1, \n",
    "            kernel_size=4, \n",
    "            # 对256*256图像是6 对128*128图像是4\n",
    "            stride=3,\n",
    "            padding=0, \n",
    "            output_padding=1\n",
    "        )\n",
    "        self.relu = func.relu\n",
    "\n",
    "#     def forward(self, X, time_stamps): ###\n",
    "#         X_chunked = torch.chunk(X, args.n_inputs, dim=1)\n",
    "#         time_diffs_chunked = torch.chunk(time_diffs, args.n_seq + args.n_inputs, dim=1) ###\n",
    "#         X = None\n",
    "#         output = [None] * (args.n_seq)\n",
    "# #         output = [None] * (args.n_seq + args.n_outputs) ###\n",
    "#         state_size = [args.batch_size, self.hidden_size] + [self.size1, self.size1]\n",
    "#         hidden1 = Variable(torch.zeros(state_size)).cuda()\n",
    "#         cell1 = Variable(torch.zeros(state_size)).cuda()\n",
    "#         hidden2 = Variable(torch.zeros(state_size)).cuda()\n",
    "#         cell2 = Variable(torch.zeros(state_size)).cuda()\n",
    "        \n",
    "#         for i in range(args.n_inputs):                                  \n",
    "#             output[i] = self.conv(X_chunked[i])     \n",
    "#             output[i] = self.pool(output[i])\n",
    "#             hidden1, cell1 = self.convlstm1(output[i],(hidden1,cell1))\n",
    "#             hidden2, cell2 = self.convlstm2(hidden1,(hidden2,cell2))\n",
    "#             output[i] = self.deconv(hidden2)\n",
    "# #             for j in range(args.batch_size): ###\n",
    "# #                 output[i][j] += time_diffs_chunked[i].squeeze()[j]\n",
    "#             output[i] = self.relu(output[i])\n",
    "        \n",
    "#         for i in range(args.n_inputs, args.n_seq):\n",
    "# #         for i in range(args.n_inputs, args.n_seq + args.n_outputs): ###                                               \n",
    "#             output[i] = self.conv(output[i-1])    \n",
    "#             output[i] = self.pool(output[i])\n",
    "#             hidden1, cell1 = self.convlstm1(output[i],(hidden1,cell1))\n",
    "#             hidden2, cell2 = self.convlstm2(hidden1,(hidden2,cell2))\n",
    "#             output[i] = self.deconv(hidden2)\n",
    "# #             for j in range(args.batch_size): ###\n",
    "# #                 output[i][j] += time_diffs_chunked[i].squeeze()[j]\n",
    "#             output[i] = self.relu(output[i])\n",
    "            \n",
    "#         return output[args.n_inputs:]\n",
    "\n",
    "    def forward(self, X):\n",
    "        # ? 关于时间插入在哪 按理来说应该插入在解码器那里 但问题是处理时间要不要和空间分开 放在反卷积的后面 做全连接层\n",
    "        X_chunked = torch.chunk(X, args.n_inputs, dim=1)\n",
    "        # 这里为什么要拆 直接遍历第二个维度不行吗 比如 X[:, i, ...]\n",
    "        # 稍后试一下二者是否等价 毕竟第一种做法拆完应该还需要合上 ⁉️\n",
    "        X = None\n",
    "        # 这个应该是在释放内存 \n",
    "        # 那直接del X不就可以了吗 ⁉️\n",
    "        output = [None] * args.n_seq\n",
    "        # 首先生成关于输出的白板 然后再往里挨个填值\n",
    "        state_size = [args.batch_size, self.hidden_size] + [self.size1, self.size1]\n",
    "        hidden1 = Variable(torch.zeros(state_size)).cuda()\n",
    "        cell1 = Variable(torch.zeros(state_size)).cuda()\n",
    "        hidden2 = Variable(torch.zeros(state_size)).cuda()\n",
    "        cell2 = Variable(torch.zeros(state_size)).cuda()\n",
    "\n",
    "        for i in range(args.n_inputs):\n",
    "            output[i] = self.conv(X_chunked[i])     \n",
    "            output[i] = self.pool(output[i])\n",
    "            hidden1, cell1 = self.convlstm1(output[i],(hidden1,cell1))\n",
    "            hidden2, cell2 = self.convlstm2(hidden1,(hidden2,cell2))\n",
    "\n",
    "            output[i] = self.deconv(hidden2)\n",
    "            output[i] = self.relu(output[i])\n",
    "\n",
    "        for i in range(args.n_inputs, args.n_seq):                                                 \n",
    "            output[i] = self.conv(output[i-1])    \n",
    "            output[i] = self.pool(output[i])\n",
    "            hidden1, cell1 = self.convlstm1(output[i],(hidden1, cell1))\n",
    "            hidden2, cell2 = self.convlstm2(hidden1,(hidden2, cell2))\n",
    "\n",
    "            output[i] = self.deconv(hidden2)\n",
    "            output[i] = self.relu(output[i])\n",
    "\n",
    "        output = torch.cat(output[args.n_inputs:], dim=1)\n",
    "        # 输入那里把第二维拆开分着算的输出 所以最后还得把这些输出的第二维给合回去\n",
    "        \n",
    "        return output"
   ]
  },
  {
   "cell_type": "code",
   "execution_count": 40,
   "metadata": {
    "ExecuteTime": {
     "end_time": "2021-10-30T01:41:10.356344Z",
     "start_time": "2021-10-30T01:41:10.337348Z"
    },
    "code_folding": [
     0
    ],
    "id": "PxIz5Mq1QNpz"
   },
   "outputs": [],
   "source": [
    "class GRUCell(nn.Module):\n",
    "    def __init__(self, shape, input_channel, filter_size, hidden_size):\n",
    "        super().__init__()\n",
    "        \n",
    "        self._shape = shape\n",
    "        self._input_channel = input_channel\n",
    "        self._filter_size = filter_size\n",
    "        self._hidden_size = hidden_size\n",
    "        self._conv = nn.Conv2d(\n",
    "            in_channels=self._input_channel + self._hidden_size, \n",
    "            # hidden state has similar spational struture as inputs \n",
    "            # we simply concatenate them on the feature dimension\n",
    "            out_channels=self._hidden_size * 3, \n",
    "            kernel_size=self._filter_size,\n",
    "            stride=1,\n",
    "            padding=1\n",
    "        )\n",
    "\n",
    "    def forward(self, x, state):\n",
    "        _hidden, _cell = state\n",
    "        cat_x = torch.cat([x, _hidden], dim=1) \n",
    "        Conv_x = self._conv(cat_x)\n",
    "\n",
    "        r, z, h_cand = torch.chunk(Conv_x, 3, dim=1)\n",
    "\n",
    "        r = func.sigmoid(r)\n",
    "        z = func.sigmoid(z)\n",
    "        h = _cell * f + (1 - z) * func.tanh(h_cand)\n",
    "        o = func.sigmoid(o)\n",
    "        hidden = o * func.tanh(cell)\n",
    "\n",
    "        return hidden"
   ]
  },
  {
   "cell_type": "markdown",
   "metadata": {
    "id": "TNVSAtayQNp1"
   },
   "source": [
    "# Training Models"
   ]
  },
  {
   "attachments": {},
   "cell_type": "markdown",
   "metadata": {
    "id": "jN_iMB7pQNp1"
   },
   "source": [
    "##### Notes"
   ]
  },
  {
   "cell_type": "code",
   "execution_count": 41,
   "metadata": {},
   "outputs": [
    {
     "data": {
      "text/plain": [
       "'\\ntensorboardX怎么启动\\n\\n'"
      ]
     },
     "execution_count": 41,
     "metadata": {},
     "output_type": "execute_result"
    }
   ],
   "source": [
    "\"\"\"\n",
    "tensorboardX怎么启动\n",
    "\n",
    "\"\"\""
   ]
  },
  {
   "attachments": {},
   "cell_type": "markdown",
   "metadata": {
    "id": "5NKrHlIXQNp1"
   },
   "source": [
    "##### Dependencies"
   ]
  },
  {
   "cell_type": "code",
   "execution_count": 42,
   "metadata": {
    "ExecuteTime": {
     "end_time": "2021-10-30T05:57:10.225337Z",
     "start_time": "2021-10-30T11:41:40.868Z"
    },
    "id": "jxPeDTYEQNp1"
   },
   "outputs": [],
   "source": [
    "import tensorboardX\n",
    "import torch\n",
    "import copy\n",
    "from torch_ssim import ssim"
   ]
  },
  {
   "attachments": {},
   "cell_type": "markdown",
   "metadata": {
    "id": "dtNVlnRxQNp3"
   },
   "source": [
    "##### Functions"
   ]
  },
  {
   "cell_type": "code",
   "execution_count": 43,
   "metadata": {},
   "outputs": [],
   "source": [
    "def save_checkpoint(epoch, model, optimizer, \n",
    "    lr_scheduler, best_accuracy):\n",
    "    \n",
    "    checkpoint = {\n",
    "        'epoch': epoch,\n",
    "        'model_states': model.state_dict(),\n",
    "        'optimizer_states': optimizer.state_dict(),\n",
    "        'lrscheduler_states': lr_scheduler.state_dict(),\n",
    "        'best_accuracy': best_accuracy,\n",
    "    }\n",
    "    # 不要往jupyter自带的.ipynb_checkpoints里面存\n",
    "    # 这里面的检查点都是自动生成的 (每隔一段时间) 混着往一起存很容易找不着指定的检查点\n",
    "    # 但说是都以时间戳命名 所以感觉倒也还好 ⁉️\n",
    "    #\n",
    "    # 检查点比较类似git之中版本的概念 既能保存markdown 又能保存代码本身及其执行结果\n",
    "    # 该隐藏文件夹将在打开笔记本时自动生成出来\n",
    "    #\n",
    "    # 内核关闭与笔记本关闭 都不触发检查点的自动保存 所以在做出重要改动后 手动保存检查点依然很有必要\n",
    "    # 其实保存笔记本就是创建检查点 ⁉️\n",
    "    #\n",
    "    # vscode对单一笔记本只覆盖保存一个检查点 ⁉️ 但我怎么感觉jupyter也是只存一个\n",
    "    # 但是由于目前发现在远端上无法保存 所以无法进行验证 找时间换到本机再试试\n",
    "    # 说是调整下vscode设置就好了 但是我看设置本来就是好的 ⁉️\n",
    "\n",
    "    # save_dir = args.ckpt_dir\n",
    "    # torch.save(checkpoint, save_dir)\n",
    "    # 这么存出来的文件就叫checkpoint\n",
    "    \n",
    "    save_path = args.ckpt_dir + f'checkpoint_epoch{epoch}.pth'\n",
    "    torch.save(checkpoint, save_dir)"
   ]
  },
  {
   "cell_type": "code",
   "execution_count": null,
   "metadata": {},
   "outputs": [],
   "source": [
    "def load_checkpoint(ckpt_path, model, optimizer, lr_scheduler):\n",
    "    \n",
    "    if ckpt_path:\n",
    "        ckpt = torch.load(ckpt_path)\n",
    "        start_epoch = ckpt['epoch'] + 1\n",
    "        # 从中断的下一个epoch再开始继续训练\n",
    "        best_accuracy = ckpt['best_accuracy']\n",
    "        model.load_state_dict(ckpt['model_states'])\n",
    "        optimizer.load_state_dict(ckpt['optimizer_states'])\n",
    "        lr_scheduler.load_state_dict(ckpt['lrscheduler_states'])\n",
    "    \n",
    "    return start_epoch, best_accuracy, model, optimizer, lr_scheduler\n",
    "    # 不确定后三个是否需要返回 ⁉️"
   ]
  },
  {
   "cell_type": "code",
   "execution_count": 44,
   "metadata": {
    "ExecuteTime": {
     "end_time": "2021-10-30T01:41:10.460214Z",
     "start_time": "2021-10-30T01:41:10.456623Z"
    },
    "code_folding": [],
    "id": "Gt04tPerQNp3"
   },
   "outputs": [],
   "source": [
    "def get_devices():\n",
    "    \n",
    "    devices = [torch.device(f'cuda:{i}') \\\n",
    "    for i in range(torch.cuda.device_count())] \\\n",
    "    if torch.cuda.is_available() else [torch.device('cpu')]\n",
    "    \n",
    "    torch.backends.cudnn.benchmark = True\n",
    "    # 设置pytorch的cudnn后端 是否自动寻找对当前的输入大小最合适的算法 并保存这些算法以用于下一次输入大小还相同\n",
    "    # 这一选项适用于网络结构和输入形状都不改变的情况 否则反而将会降低运行效率\n",
    "    # 若每次迭代都有所变化 cudnn就每次都要重新寻找最优的算法\n",
    "    # 总而言之需要根据实际情况设置运行模式\n",
    "    # \n",
    "    # 即便本机没有gpu也能进行设置 只不过就是无用功罢了\n",
    "    \n",
    "    return devices"
   ]
  },
  {
   "cell_type": "code",
   "execution_count": 45,
   "metadata": {
    "ExecuteTime": {
     "end_time": "2021-10-30T01:41:10.480094Z",
     "start_time": "2021-10-30T01:41:10.461891Z"
    },
    "code_folding": [],
    "id": "a4xilRwZQNp3"
   },
   "outputs": [],
   "source": [
    "def get_model(archi='ConvLSTM', model_path=None, ckpt_states=None):\n",
    "\n",
    "    assert archi in ('ConvLSTM', 'ConvGRU'), \\\n",
    "        f\"{archi} is still unavailable.\"\n",
    "    # 这还是硬编码 这个元组有待改进 ⁉️\n",
    "    #\n",
    "    # python会区分大小写 所以类名怎么设的这里就要怎么来写 \n",
    "    # 没有必要全变小写进行检测 因为稍后在实例化的时候还是这么用\n",
    "    \n",
    "    assert not (model_path and ckpt_states), \\\n",
    "        f\"Only one trained model/checkpoint could be passed in.\"\n",
    "\n",
    "\n",
    "    # 载入已训练的模型进行推理 >\n",
    "    if model_path:\n",
    "        model = torch.load(model_path)\n",
    "        print(\"Reload the best trained model to make inference...\")\n",
    "    \n",
    "    # 载入检查点 或从头训练 >\n",
    "    else:\n",
    "        model = eval(archi)()\n",
    "        # 实例化一个神经网络类\n",
    "        # 比如eval(\"ConvLSTM\")()=ConvLSTM()\n",
    "\n",
    "        if not ckpt_states:\n",
    "            print(f\"Initialize a new model of {archi}...\")\n",
    "        \n",
    "        else:\n",
    "            model.load_state_dict(ckpt_states)\n",
    "            # 从检查点之中恢复模型参数\n",
    "            # 注意还有其它部分也要恢复 但没放在该函数里\n",
    "            print(f\"Reload the checkpoint to resume training \\\n",
    "            from epoch {checkpoint['epoch']} to epoch {args.n_epoches}...\")\n",
    "\n",
    "    print('---')\n",
    "    # 此即为各分支的print都额外添加分隔\n",
    "\n",
    "    return model"
   ]
  },
  {
   "cell_type": "code",
   "execution_count": 46,
   "metadata": {
    "ExecuteTime": {
     "end_time": "2021-10-30T01:41:10.519315Z",
     "start_time": "2021-10-30T01:41:10.501588Z"
    },
    "code_folding": [
     14
    ],
    "id": "U2W49-O8QNp3"
   },
   "outputs": [],
   "source": [
    "def get_lsfn(loss_type='MSE'):\n",
    "    \"\"\"\n",
    "    Parameters:\n",
    "    ---\n",
    "    loss_type: str,\n",
    "        indicating which evaluation metric is used for training.\n",
    "\n",
    "    \"\"\"\n",
    "    \n",
    "    assert loss_type in args.criterion, \\\n",
    "        f\"{loss_type} is still unavailable.\"\n",
    "\n",
    "    loss_fn = eval(loss_type)\n",
    "\n",
    "    return loss_fn\n",
    "\n",
    "def MAE():\n",
    "    return nn.L1Loss()\n",
    "    # 这里有待深究 总之没()不行\n",
    "    # https://blog.csdn.net/m13526413031/article/details/116426016 ⁉️\n",
    "\n",
    "def MSE():\n",
    "    return nn.MSELoss()\n",
    "\n",
    "def Smooth_MAE():\n",
    "    return nn.smooth_l1_loss()\n",
    "\n",
    "# def LogCosh(output, target):\n",
    "#     return torch.mean(torch.log(torch.cosh(output - target))) \n",
    "\n",
    "def SSIM(output, target):\n",
    "    '''\n",
    "    Input:\n",
    "        should be 5D (samples, channels, frames, heigth, width).\n",
    "    Return:\n",
    "        the structural similarity between two matrices. \n",
    "        (using only first dimension of channels, so it should have 1 channel to make it work)\n",
    "    '''\n",
    "    \n",
    "#     return ssim(output[:,0,...], target[:,0,...], size_average=1, data_range=1)\n",
    "    return ssim(output, target, size_average=1, data_range=1)"
   ]
  },
  {
   "cell_type": "code",
   "execution_count": 47,
   "metadata": {
    "ExecuteTime": {
     "end_time": "2021-10-30T01:41:10.579067Z",
     "start_time": "2021-10-30T01:41:10.560591Z"
    },
    "code_folding": [
     0
    ],
    "id": "2Y6aM09CQNp6"
   },
   "outputs": [],
   "source": [
    "def get_optimizer(model, ckpt_states=None):\n",
    "    \n",
    "    optimizer = torch.optim.Adam(model.parameters(), \\\n",
    "        lr=args.lr, weight_decay=args.wd)\n",
    "    \n",
    "    if ckpt_states:\n",
    "        optimizer.load_state_dict(ckpt_states)\n",
    "\n",
    "    # LR_step_size = int(max_epochs / lr_steps)\n",
    "    # gamma = 0.7\n",
    "    # lr_scheduler = torch.optim.lr_scheduler.StepLR(optimizer, step_size=LR_step_size, gamma=gamma)\n",
    "    # # 用于调整学习率的函数\n",
    "    # # 使用StepLR方法 将初始学习率每LR_step_size个epoch就降低一个因子gamma ⁉️\n",
    "    # # 现在打算用warmup 不用线性的了 而且单开一个函数\n",
    "\n",
    "    return optimizer"
   ]
  },
  {
   "cell_type": "code",
   "execution_count": 48,
   "metadata": {},
   "outputs": [],
   "source": [
    "def get_lr_scheduler(optimizer, warmup_epochs, num_epochs, ckpt_states=None):\n",
    "    \n",
    "    def lr_lambda(current_epoch):\n",
    "        if current_epoch < warmup_epochs:\n",
    "            return float(current_epoch) / float(max(1, warmup_epochs))\n",
    "        else:\n",
    "            return 0.8 ** (float(current_epoch - warmup_epochs) / float(max(1, num_epochs - warmup_epochs)))\n",
    "    \n",
    "    lr_scheduler = torch.optim.lr_scheduler.LambdaLR(optimizer, lr_lambda)\n",
    "\n",
    "    if ckpt_states:\n",
    "        optimizer.load_state_dict(ckpt_states)\n",
    "    \n",
    "    return lr_scheduler\n"
   ]
  },
  {
   "cell_type": "code",
   "execution_count": 49,
   "metadata": {
    "ExecuteTime": {
     "end_time": "2021-10-30T01:41:10.600149Z",
     "start_time": "2021-10-30T01:41:10.580869Z"
    },
    "code_folding": [],
    "id": "gP0a7E_aQNp6"
   },
   "outputs": [],
   "source": [
    "def get_pred_loss(vl_dataloader, model, criterion, devices, plot_preds=False):\n",
    "    model.eval()\n",
    "    loss = 0\n",
    "    ssim = 0\n",
    "    \n",
    "    with torch.no_grad():\n",
    "        for n_batch, batch_data in enumerate(vl_dataloader):\n",
    "        # 提取第几批次只是为了计算批量平均误差\n",
    "\n",
    "            X = batch_data['data'].float().to(devices)\n",
    "            Y = batch_data['labels'].float().to(devices)\n",
    "            # 图像数据的数据类型必须匹配网络参数的数据类型 \n",
    "            # 所以要把uint8转为float32\n",
    "            # 这点我在构建数据集时就做完了\n",
    "\n",
    "            output = model(X)\n",
    "    \n",
    "            loss += criterion(output, Y)\n",
    "            # 训练时候 类似SGD 我们是单批量优化参数 而验证时候则是整个验证集\n",
    "            # 暂时舍弃这种想法\n",
    "            ssim += SSIM(output, Y) ###\n",
    "#             for i in range(args.n_outputs):\n",
    "#                 loss += criterion(pred_list[i].squeeze(), Y[:, i, :, :])\n",
    "#                 # pred_list是(5, 10, 1, 256, 256) \n",
    "#                 # Y是(10, 5, 256, 256)\n",
    "\n",
    "        # loss /= (n_batch * args.batch_size * args.n_outputs)\n",
    "        # ssim /= (n_batch * args.batch_size * args.n_outputs)\n",
    "        loss /= (args.batch_size * args.n_outputs)\n",
    "        ssim /= (args.batch_size * args.n_outputs)\n",
    "        \n",
    "    return loss, ssim"
   ]
  },
  {
   "cell_type": "code",
   "execution_count": 50,
   "metadata": {
    "ExecuteTime": {
     "end_time": "2021-10-30T01:41:10.499842Z",
     "start_time": "2021-10-30T01:41:10.481882Z"
    },
    "code_folding": [
     1
    ],
    "id": "PzF70P7WQNp3"
   },
   "outputs": [],
   "source": [
    "# def _get_params(params_name):\n",
    "#     '''\n",
    "#     params_name: 'params_name'\n",
    "#     '''\n",
    "#     exec(\"from {m}.{s} import {f}\".format(m='.models.params', s=params_name,  f='params'), globals())\n",
    "#     # ⁉️\n",
    "#     return params \n",
    "\n",
    "# # 这段代码还没开始改 这是用于读取之前checkpoint参数\n",
    "# # 这是cuomo写的 ⁉️"
   ]
  },
  {
   "cell_type": "code",
   "execution_count": 51,
   "metadata": {
    "ExecuteTime": {
     "end_time": "2021-10-30T01:41:10.639054Z",
     "start_time": "2021-10-30T01:41:10.621411Z"
    },
    "code_folding": [
     0
    ],
    "id": "-dMtpfOuQNp8",
    "run_control": {
     "marked": false
    }
   },
   "outputs": [],
   "source": [
    "# def save_checkpoint(epoch, state_dict(), ):\n",
    "#     \"\"\"\n",
    "#     Discription\n",
    "#     ---\n",
    "#     Save the best model having been trained so far.\n",
    "    \n",
    "#     Todo\n",
    "#     ---\n",
    "#     As shown in *pag. 39, stopping training when validation loss is at the minimum should be the best possible checkpoint. \n",
    "#     So, implement stopping when validation loss starts increasing (use histeresis to missinterpretate noise as minimum)\n",
    "#     You can comment/uncomment the 3 saving in the fx as what suits you best. They are just to reproduce results.\n",
    "#     \"\"\"\n",
    "    \n",
    "#     if path==None:\n",
    "#         base_dir = str(Path(__file__).parent.parent.parent)\n",
    "#         data_dir = \"/data/checkpoints/\"\n",
    "#         path = base_dir + data_dir\n",
    "\n",
    "#     state = {\n",
    "#         \"epoch\": epoch + 1,\n",
    "#         \"state_dict\": state_dict(),\n",
    "#         \"best_accuracy\": vl_loss}\n",
    "#     torch.save(state, path + self.save_filename)\n",
    "\n",
    "#     try:\n",
    "#         torch.save(self.best_model_loss, path + \"bestLOSS_\" + self.save_filename)\n",
    "#         #torch.save(self.best_model_ssim, path + \"bestSSIM_\" + self.save_filename)\n",
    "#     except:\n",
    "#         pass\n",
    "#     filename = self.params[\"save_filename\"].replace(\"pth\",\"param\")\n",
    "#     with open(path + filename,\"wb\") as my_file_obj:\n",
    "#             pickle.dump(self.params, my_file_obj)"
   ]
  },
  {
   "cell_type": "code",
   "execution_count": 52,
   "metadata": {
    "ExecuteTime": {
     "end_time": "2021-10-30T01:41:10.658146Z",
     "start_time": "2021-10-30T01:41:10.640932Z"
    },
    "code_folding": [
     0
    ],
    "id": "s4pPeGZMQNp8"
   },
   "outputs": [],
   "source": [
    "# def load_checkpoint(self, params, ckpoint_path=None , cuda=True, verbose=True):\n",
    "#     '''\n",
    "#     Load a checkpoint, to make predictions or to resume training.\n",
    "#     Inputs:\n",
    "#         params: see Class help\n",
    "#         ckpoint_path: checkpoint path. \n",
    "#             If not given it looks for the checkpoint in mlnowcasting/data/checkpoints/ with the name of the params['save_filename']\n",
    "#         cuda: if True try to uses GPU\n",
    "#         verbose: print information\n",
    "#     '''\n",
    "#     if not self.model:\n",
    "#         self.model = self.get_model(params['n_filter'], params['dropout']).float()\n",
    "\n",
    "#     if not ckpoint_path:\n",
    "#         base_dir = str(Path(__file__).parent.parent.parent)\n",
    "#         data_dir = '/data/checkpoints/'\n",
    "#         path = base_dir + data_dir\n",
    "#         ckpoint_path = path + params['save_filename']\n",
    "\n",
    "#     use_gpu = torch.cuda.is_available()\n",
    "#     if cuda and use_gpu:\n",
    "#         self.model.cuda()\n",
    "#         checkpoint = torch.load(ckpoint_path)\n",
    "#     else:\n",
    "#         checkpoint = torch.load(ckpoint_path, map_location=torch.device('cpu') )\n",
    "\n",
    "#     self.model.eval()\n",
    "#     start_epoch = checkpoint['epoch']\n",
    "#     best_accuracy = checkpoint['best_accuracy']\n",
    "#     self.model.load_state_dict(checkpoint['state_dict'])\n",
    "#     if verbose:\n",
    "#         print(\"=> loaded checkpoint '{}' (trained for {} epochs)\".format(params['save_filename'], checkpoint['epoch']))"
   ]
  },
  {
   "cell_type": "code",
   "execution_count": 53,
   "metadata": {
    "ExecuteTime": {
     "end_time": "2021-10-30T01:41:10.685740Z",
     "start_time": "2021-10-30T01:41:10.660092Z"
    },
    "code_folding": [],
    "id": "TW_qAw83QNp8"
   },
   "outputs": [],
   "source": [
    "def run_training(reload=False, ckpt_path=None):\n",
    "    learning_rates = []\n",
    "\n",
    "    mse_loss = {'train': [], 'validation': []}\n",
    "    ssim_loss = {'train': [], 'validation': []}\n",
    "\n",
    "    if ckpt_path:\n",
    "        ckpt = torch.load(ckpt_path)\n",
    "        start_epoch = ckpt['epoch'] + 1\n",
    "        # 从中断的下一个epoch再开始继续训练\n",
    "        best_accuracy = ckpt['best_accuracy']\n",
    "        model = get_model(archi='ConvLSTM', ckpt_states=ckpt['model_states'])\n",
    "        optimizer = get_optimizer(model, ckpt['optimizer_states'])\n",
    "        lr_scheduler = get_optimizer(optimizer, ckpt['lrscheduler_states'])\n",
    "        \n",
    "    else:\n",
    "        start_epoch = 0\n",
    "        best_accuracy = {'vl_mse': 1000, 'vl_ssim': -1}\n",
    "        # 初始最佳性能要给设成最不好的数\n",
    "        model = get_model(archi='ConvLSTM')\n",
    "        optimizer = get_optimizer(model)\n",
    "        lr_scheduler = get_lr_scheduler(optimizer, 0.2 * args.n_epoches, args.n_epoches)\n",
    "    \n",
    "    tr_dataloader, vl_dataloader, _ = get_dataloaders()\n",
    "    devices = get_devices()\n",
    "    criterion = get_lsfn('MSE')()\n",
    "    \n",
    "    # 考虑多卡并行 >\n",
    "    # 暂不确定把它放在optimizer前面有无什么影响 ⁉️\n",
    "    if len(devices) > 1:\n",
    "        model = nn.DataParallel(model, device_ids=devices)\n",
    "    else:\n",
    "        devices = devices[0]\n",
    "        model = model.to(devices) \n",
    "\n",
    "    model.train()\n",
    "    # 暂不确定把它放在optimizer前面有无什么影响 \n",
    "    # optimizer定义需要model ⁉️\n",
    "    for epoch in range(start_epoch, args.n_epoches):\n",
    "        t_elapsed = 0\n",
    "        t = time.time()\n",
    "        \n",
    "        for n_batch, batch_data in enumerate(tr_dataloader, start=1):\n",
    "            loss = 0\n",
    "            # 如前所述 训练时需要效仿SGD单批量优化参数 而验证时候则是整个验证集\n",
    "            # 暂时废弃这一想法\n",
    "            ssim = 0\n",
    "            # 同时也把ssim给跑出来 只是为了作图\n",
    "            \n",
    "            X = Variable(batch_data['data'].float()).to(devices)\n",
    "            Y = Variable(batch_data['labels'].float()).to(devices)\n",
    "            optimizer.zero_grad()\n",
    "            output = model(X)\n",
    "            loss = criterion(output, Y)\n",
    "            # https://blog.csdn.net/m13526413031/article/details/116426016\n",
    "            loss.backward()\n",
    "            optimizer.step()\n",
    "            lr_scheduler.step()\n",
    "\n",
    "            if n_batch % 100 == 0:\n",
    "                t_elapsed += (time.time() - t)\n",
    "                t = time.time()\n",
    "                \n",
    "                tr_avg_loss = loss / (args.batch_size * args.n_outputs)\n",
    "                mse_loss['train'].append(tr_avg_loss)\n",
    "                ssim += SSIM(output, Y) / (args.batch_size * args.n_outputs)\n",
    "                ssim_loss['train'].append(ssim)\n",
    "                \n",
    "                vl_avg_loss, vl_avg_ssim = get_pred_loss(vl_dataloader=vl_dataloader, \n",
    "                    model=model, devices=devices, criterion=criterion)\n",
    "                mse_loss[\"validation\"].append(vl_avg_loss)\n",
    "                ssim_loss[\"validation\"].append(vl_avg_ssim)\n",
    "                \n",
    "                if vl_avg_loss < best_accuracy[\"vl_mse\"]:\n",
    "                    # best_accuracy[\"vl_mse\"] = vl_avg_loss\n",
    "                    # state_dict = copy.deepcopy(model.state_dict())\n",
    "                    # torch.save(model, f\"model_{epoch + 1}_mse.pkl\")\n",
    "                    # best_model_loss = {\"epoch\": epoch + 1, \"state_dict\": state_dict, \"best_loss\": best_vl_loss}\n",
    "\n",
    "                    if epoch >= 10:\n",
    "                        # 训练前期没必要存\n",
    "                        \n",
    "                        save_checkpoint(epoch, model, optimizer, \n",
    "                            best_accuracy, lr_scheduler)\n",
    "                    \n",
    "                # if vl_avg_ssim > best_vl_ssim:\n",
    "                #     best_vl_ssim = vl_avg_ssim\n",
    "                #     state_dict = copy.deepcopy(model.state_dict())\n",
    "                #     best_model_ssim = {\"epoch\": epoch + 1, \"state_dict\": state_dict, \"best_loss\": best_vl_ssim} \n",
    "                \n",
    "                print(f\"Epoch: {epoch}, Iteration: {n_batch}, Tr_Avg_Loss: {tr_avg_loss:.6f}, Vl_Avg_Loss: {vl_avg_loss:.6f}, Vl_Avg_SSIM: {vl_avg_ssim:.6f}\")\n",
    "                \n",
    "        print(\"Finished an epoch...\")\n",
    "        print(f\"Elapsed seconds from last epoch: {t_elapsed:.2f}\")\n",
    "        \n",
    "#         torch.save(model, \"model_{0}.pkl\".format(epoch)) ###"
   ]
  },
  {
   "cell_type": "markdown",
   "metadata": {
    "id": "qw5tITPZQNp8"
   },
   "source": [
    "# Make Predictions"
   ]
  },
  {
   "cell_type": "code",
   "execution_count": 54,
   "metadata": {
    "ExecuteTime": {
     "end_time": "2021-10-29T15:21:48.600761Z",
     "start_time": "2021-10-29T15:21:28.462199Z"
    },
    "id": "NJfialNbQNp-",
    "scrolled": true
   },
   "outputs": [
    {
     "name": "stdout",
     "output_type": "stream",
     "text": [
      "Initialize a new model of ConvLSTM...\n",
      "---\n"
     ]
    },
    {
     "name": "stderr",
     "output_type": "stream",
     "text": [
      "/top/students/UNGRAD/UE/xbai/home/MyApps/Miniconda3/envs/myenv/lib/python3.10/site-packages/torch/nn/functional.py:1960: UserWarning: nn.functional.sigmoid is deprecated. Use torch.sigmoid instead.\n",
      "  warnings.warn(\"nn.functional.sigmoid is deprecated. Use torch.sigmoid instead.\")\n",
      "/top/students/UNGRAD/UE/xbai/home/MyApps/Miniconda3/envs/myenv/lib/python3.10/site-packages/torch/nn/functional.py:1949: UserWarning: nn.functional.tanh is deprecated. Use torch.tanh instead.\n",
      "  warnings.warn(\"nn.functional.tanh is deprecated. Use torch.tanh instead.\")\n"
     ]
    },
    {
     "name": "stdout",
     "output_type": "stream",
     "text": [
      "Epoch: 0, Iteration: 99, Tr_Avg_Loss: 1.192318, Vl_Avg_Loss: 81.829117, Vl_Avg_SSIM: 0.000412\n",
      "Epoch: 0, Iteration: 199, Tr_Avg_Loss: 0.834809, Vl_Avg_Loss: 68.143318, Vl_Avg_SSIM: 0.007713\n",
      "Finished an epoch...\n",
      "Elapsed seconds from last epoch: 89.58\n",
      "Epoch: 1, Iteration: 99, Tr_Avg_Loss: 0.864364, Vl_Avg_Loss: 58.382637, Vl_Avg_SSIM: 0.003102\n",
      "Epoch: 1, Iteration: 199, Tr_Avg_Loss: 0.735587, Vl_Avg_Loss: 54.346046, Vl_Avg_SSIM: 0.004758\n",
      "Finished an epoch...\n",
      "Elapsed seconds from last epoch: 87.20\n",
      "Epoch: 2, Iteration: 99, Tr_Avg_Loss: 0.681636, Vl_Avg_Loss: 50.333458, Vl_Avg_SSIM: 0.007857\n",
      "Epoch: 2, Iteration: 199, Tr_Avg_Loss: 0.610077, Vl_Avg_Loss: 48.220795, Vl_Avg_SSIM: 0.006319\n",
      "Finished an epoch...\n",
      "Elapsed seconds from last epoch: 87.72\n",
      "Epoch: 3, Iteration: 99, Tr_Avg_Loss: 0.607893, Vl_Avg_Loss: 46.243282, Vl_Avg_SSIM: 0.006941\n",
      "Epoch: 3, Iteration: 199, Tr_Avg_Loss: 0.611177, Vl_Avg_Loss: 44.950821, Vl_Avg_SSIM: 0.005492\n",
      "Finished an epoch...\n",
      "Elapsed seconds from last epoch: 87.34\n",
      "Epoch: 4, Iteration: 99, Tr_Avg_Loss: 0.619453, Vl_Avg_Loss: 43.744202, Vl_Avg_SSIM: 0.005107\n",
      "Epoch: 4, Iteration: 199, Tr_Avg_Loss: 0.557343, Vl_Avg_Loss: 43.031490, Vl_Avg_SSIM: 0.004930\n",
      "Finished an epoch...\n",
      "Elapsed seconds from last epoch: 87.78\n",
      "Epoch: 5, Iteration: 99, Tr_Avg_Loss: 0.478830, Vl_Avg_Loss: 42.326283, Vl_Avg_SSIM: 0.004186\n",
      "Epoch: 5, Iteration: 199, Tr_Avg_Loss: 0.462661, Vl_Avg_Loss: 41.982346, Vl_Avg_SSIM: 0.005938\n",
      "Finished an epoch...\n",
      "Elapsed seconds from last epoch: 87.46\n",
      "Epoch: 6, Iteration: 99, Tr_Avg_Loss: 0.515044, Vl_Avg_Loss: 41.010647, Vl_Avg_SSIM: 0.004602\n",
      "Epoch: 6, Iteration: 199, Tr_Avg_Loss: 0.590179, Vl_Avg_Loss: 40.877441, Vl_Avg_SSIM: 0.006247\n",
      "Finished an epoch...\n",
      "Elapsed seconds from last epoch: 87.49\n",
      "Epoch: 7, Iteration: 99, Tr_Avg_Loss: 0.467270, Vl_Avg_Loss: 40.423920, Vl_Avg_SSIM: 0.005985\n",
      "Epoch: 7, Iteration: 199, Tr_Avg_Loss: 0.518632, Vl_Avg_Loss: 40.103725, Vl_Avg_SSIM: 0.005811\n"
     ]
    },
    {
     "ename": "RuntimeError",
     "evalue": "CUDA out of memory. Tried to allocate 14.00 MiB (GPU 0; 19.62 GiB total capacity; 17.01 GiB already allocated; 8.50 MiB free; 17.89 GiB reserved in total by PyTorch) If reserved memory is >> allocated memory try setting max_split_size_mb to avoid fragmentation.  See documentation for Memory Management and PYTORCH_CUDA_ALLOC_CONF",
     "output_type": "error",
     "traceback": [
      "\u001b[0;31m---------------------------------------------------------------------------\u001b[0m",
      "\u001b[0;31mRuntimeError\u001b[0m                              Traceback (most recent call last)",
      "Cell \u001b[0;32mIn[54], line 1\u001b[0m\n\u001b[0;32m----> 1\u001b[0m run_training()\n",
      "Cell \u001b[0;32mIn[53], line 53\u001b[0m, in \u001b[0;36mrun_training\u001b[0;34m(reload, ckpt_path)\u001b[0m\n\u001b[1;32m     51\u001b[0m Y \u001b[39m=\u001b[39m Variable(batch_data[\u001b[39m'\u001b[39m\u001b[39mlabels\u001b[39m\u001b[39m'\u001b[39m]\u001b[39m.\u001b[39mfloat())\u001b[39m.\u001b[39mto(devices)\n\u001b[1;32m     52\u001b[0m optimizer\u001b[39m.\u001b[39mzero_grad()\n\u001b[0;32m---> 53\u001b[0m output \u001b[39m=\u001b[39m model(X)\n\u001b[1;32m     54\u001b[0m loss \u001b[39m=\u001b[39m criterion(output, Y)\n\u001b[1;32m     55\u001b[0m \u001b[39m# https://blog.csdn.net/m13526413031/article/details/116426016\u001b[39;00m\n",
      "File \u001b[0;32m~/MyApps/Miniconda3/envs/myenv/lib/python3.10/site-packages/torch/nn/modules/module.py:1130\u001b[0m, in \u001b[0;36mModule._call_impl\u001b[0;34m(self, *input, **kwargs)\u001b[0m\n\u001b[1;32m   1126\u001b[0m \u001b[39m# If we don't have any hooks, we want to skip the rest of the logic in\u001b[39;00m\n\u001b[1;32m   1127\u001b[0m \u001b[39m# this function, and just call forward.\u001b[39;00m\n\u001b[1;32m   1128\u001b[0m \u001b[39mif\u001b[39;00m \u001b[39mnot\u001b[39;00m (\u001b[39mself\u001b[39m\u001b[39m.\u001b[39m_backward_hooks \u001b[39mor\u001b[39;00m \u001b[39mself\u001b[39m\u001b[39m.\u001b[39m_forward_hooks \u001b[39mor\u001b[39;00m \u001b[39mself\u001b[39m\u001b[39m.\u001b[39m_forward_pre_hooks \u001b[39mor\u001b[39;00m _global_backward_hooks\n\u001b[1;32m   1129\u001b[0m         \u001b[39mor\u001b[39;00m _global_forward_hooks \u001b[39mor\u001b[39;00m _global_forward_pre_hooks):\n\u001b[0;32m-> 1130\u001b[0m     \u001b[39mreturn\u001b[39;00m forward_call(\u001b[39m*\u001b[39;49m\u001b[39minput\u001b[39;49m, \u001b[39m*\u001b[39;49m\u001b[39m*\u001b[39;49mkwargs)\n\u001b[1;32m   1131\u001b[0m \u001b[39m# Do not call functions when jit is used\u001b[39;00m\n\u001b[1;32m   1132\u001b[0m full_backward_hooks, non_full_backward_hooks \u001b[39m=\u001b[39m [], []\n",
      "Cell \u001b[0;32mIn[39], line 116\u001b[0m, in \u001b[0;36mConvLSTM.forward\u001b[0;34m(self, X)\u001b[0m\n\u001b[1;32m    114\u001b[0m output[i] \u001b[39m=\u001b[39m \u001b[39mself\u001b[39m\u001b[39m.\u001b[39mpool(output[i])\n\u001b[1;32m    115\u001b[0m hidden1, cell1 \u001b[39m=\u001b[39m \u001b[39mself\u001b[39m\u001b[39m.\u001b[39mconvlstm1(output[i],(hidden1, cell1))\n\u001b[0;32m--> 116\u001b[0m hidden2, cell2 \u001b[39m=\u001b[39m \u001b[39mself\u001b[39;49m\u001b[39m.\u001b[39;49mconvlstm2(hidden1,(hidden2, cell2))\n\u001b[1;32m    118\u001b[0m output[i] \u001b[39m=\u001b[39m \u001b[39mself\u001b[39m\u001b[39m.\u001b[39mdeconv(hidden2)\n\u001b[1;32m    119\u001b[0m output[i] \u001b[39m=\u001b[39m \u001b[39mself\u001b[39m\u001b[39m.\u001b[39mrelu(output[i])\n",
      "File \u001b[0;32m~/MyApps/Miniconda3/envs/myenv/lib/python3.10/site-packages/torch/nn/modules/module.py:1130\u001b[0m, in \u001b[0;36mModule._call_impl\u001b[0;34m(self, *input, **kwargs)\u001b[0m\n\u001b[1;32m   1126\u001b[0m \u001b[39m# If we don't have any hooks, we want to skip the rest of the logic in\u001b[39;00m\n\u001b[1;32m   1127\u001b[0m \u001b[39m# this function, and just call forward.\u001b[39;00m\n\u001b[1;32m   1128\u001b[0m \u001b[39mif\u001b[39;00m \u001b[39mnot\u001b[39;00m (\u001b[39mself\u001b[39m\u001b[39m.\u001b[39m_backward_hooks \u001b[39mor\u001b[39;00m \u001b[39mself\u001b[39m\u001b[39m.\u001b[39m_forward_hooks \u001b[39mor\u001b[39;00m \u001b[39mself\u001b[39m\u001b[39m.\u001b[39m_forward_pre_hooks \u001b[39mor\u001b[39;00m _global_backward_hooks\n\u001b[1;32m   1129\u001b[0m         \u001b[39mor\u001b[39;00m _global_forward_hooks \u001b[39mor\u001b[39;00m _global_forward_pre_hooks):\n\u001b[0;32m-> 1130\u001b[0m     \u001b[39mreturn\u001b[39;00m forward_call(\u001b[39m*\u001b[39;49m\u001b[39minput\u001b[39;49m, \u001b[39m*\u001b[39;49m\u001b[39m*\u001b[39;49mkwargs)\n\u001b[1;32m   1131\u001b[0m \u001b[39m# Do not call functions when jit is used\u001b[39;00m\n\u001b[1;32m   1132\u001b[0m full_backward_hooks, non_full_backward_hooks \u001b[39m=\u001b[39m [], []\n",
      "Cell \u001b[0;32mIn[38], line 50\u001b[0m, in \u001b[0;36mConvLSTMCell.forward\u001b[0;34m(self, x, out_0)\u001b[0m\n\u001b[1;32m     48\u001b[0m i \u001b[39m=\u001b[39m func\u001b[39m.\u001b[39msigmoid(i)\n\u001b[1;32m     49\u001b[0m f \u001b[39m=\u001b[39m func\u001b[39m.\u001b[39msigmoid(f)\n\u001b[0;32m---> 50\u001b[0m c \u001b[39m=\u001b[39m f \u001b[39m*\u001b[39m c_0 \u001b[39m+\u001b[39m i \u001b[39m*\u001b[39m func\u001b[39m.\u001b[39;49mtanh(g)\n\u001b[1;32m     51\u001b[0m o \u001b[39m=\u001b[39m func\u001b[39m.\u001b[39msigmoid(o)\n\u001b[1;32m     52\u001b[0m h \u001b[39m=\u001b[39m o \u001b[39m*\u001b[39m func\u001b[39m.\u001b[39mtanh(c)\n",
      "File \u001b[0;32m~/MyApps/Miniconda3/envs/myenv/lib/python3.10/site-packages/torch/nn/functional.py:1950\u001b[0m, in \u001b[0;36mtanh\u001b[0;34m(input)\u001b[0m\n\u001b[1;32m   1942\u001b[0m \u001b[39mr\u001b[39m\u001b[39m\"\"\"tanh(input) -> Tensor\u001b[39;00m\n\u001b[1;32m   1943\u001b[0m \n\u001b[1;32m   1944\u001b[0m \u001b[39mApplies element-wise,\u001b[39;00m\n\u001b[0;32m   (...)\u001b[0m\n\u001b[1;32m   1947\u001b[0m \u001b[39mSee :class:`~torch.nn.Tanh` for more details.\u001b[39;00m\n\u001b[1;32m   1948\u001b[0m \u001b[39m\"\"\"\u001b[39;00m\n\u001b[1;32m   1949\u001b[0m warnings\u001b[39m.\u001b[39mwarn(\u001b[39m\"\u001b[39m\u001b[39mnn.functional.tanh is deprecated. Use torch.tanh instead.\u001b[39m\u001b[39m\"\u001b[39m)\n\u001b[0;32m-> 1950\u001b[0m \u001b[39mreturn\u001b[39;00m \u001b[39minput\u001b[39;49m\u001b[39m.\u001b[39;49mtanh()\n",
      "\u001b[0;31mRuntimeError\u001b[0m: CUDA out of memory. Tried to allocate 14.00 MiB (GPU 0; 19.62 GiB total capacity; 17.01 GiB already allocated; 8.50 MiB free; 17.89 GiB reserved in total by PyTorch) If reserved memory is >> allocated memory try setting max_split_size_mb to avoid fragmentation.  See documentation for Memory Management and PYTORCH_CUDA_ALLOC_CONF"
     ]
    }
   ],
   "source": [
    "run_training()"
   ]
  },
  {
   "cell_type": "code",
   "execution_count": null,
   "metadata": {
    "ExecuteTime": {
     "end_time": "2021-10-30T01:41:52.960334Z",
     "start_time": "2021-10-30T01:41:52.953703Z"
    },
    "id": "7YbdFQb8QNp-"
   },
   "outputs": [],
   "source": [
    "from matplotlib.colors import LinearSegmentedColormap\n",
    "import matplotlib.pyplot as plt\n",
    "import cartopy.feature as cfeature\n",
    "import cartopy.crs as ccrs\n",
    "from cartopy.io import img_tiles"
   ]
  },
  {
   "cell_type": "code",
   "execution_count": null,
   "metadata": {
    "ExecuteTime": {
     "end_time": "2021-10-30T01:41:53.421630Z",
     "start_time": "2021-10-30T01:41:53.415308Z"
    },
    "code_folding": [],
    "id": "rcgjU5zOQNp-"
   },
   "outputs": [],
   "source": [
    "def get_color_map():\n",
    "    \"\"\"\n",
    "    Discription\n",
    "    ---\n",
    "    Customize a color map used for plotting reflectivity values.\n",
    "    \"\"\"\n",
    "    colors = [(255, 255, 255), (164, 140, 177), (83, 2, 125), (49, 0, 199), (0, 0, 255), \n",
    "              (5, 101, 134), (10, 182, 18), (105, 170, 18), (255, 255, 0), (255, 213, 0), \n",
    "              (253, 169, 2), (255, 84, 0), (255, 0, 0)]  \n",
    "    # R -> G -> B\n",
    "    colors = [[each / 255 for each in color] for color in colors]\n",
    "    # 列表没有广播机制 所以无法直接除一个数\n",
    "    cmap_name = \"darts\"\n",
    "    return LinearSegmentedColormap.from_list(cmap_name, colors, N=13)\n",
    "    # ? 这个N=13啥意思?\n",
    "\n",
    "cmap = get_color_map()"
   ]
  },
  {
   "cell_type": "code",
   "execution_count": null,
   "metadata": {
    "ExecuteTime": {
     "end_time": "2021-10-30T01:45:27.127006Z",
     "start_time": "2021-10-30T01:45:27.117432Z"
    },
    "code_folding": [],
    "id": "9wJub5RGQNp-"
   },
   "outputs": [],
   "source": [
    "def plot_obs_pred(X, Y, N=args.n_outputs, plot_inputs=False):\n",
    "#     if plot_inputs:\n",
    "#         for i in range(args.n_inputs):\n",
    "#             plt.subplot(1, args.n_inputs, i + 1)\n",
    "#             plt.imshow(X[0][i], cmap=cmap)\n",
    "    \n",
    "    model = torch.load(\"model_21.pkl\")\n",
    "    output = model(X.float().cuda())\n",
    "    cmap = get_color_map()\n",
    "    fig, axes = plt.subplots(nrows=2, ncols=N, figsize=(20, 10))\n",
    "    \n",
    "    i = 0\n",
    "    for ax in axes.flat:\n",
    "        if i < args.n_inputs:\n",
    "            img = ax.imshow(Y[0][i], vmin=0, vmax=70, cmap=cmap)\n",
    "            ax.set_yticklabels([])\n",
    "            ax.set_xticklabels([])\n",
    "#             ax.axis(\"off\")\n",
    "            i += 1\n",
    "        \n",
    "        else:\n",
    "            img = ax.imshow(output[0][i - args.n_inputs].squeeze().detach().cpu(), vmin=0, vmax=70, cmap=cmap)\n",
    "            ax.set_yticklabels([])\n",
    "            ax.set_xticklabels([])\n",
    "#             ax.axis(\"off\")\n",
    "    \n",
    "    axes[0,0].set_ylabel(\"OBS\")\n",
    "    axes[1,0].set_ylabel(\"PRED\")\n",
    "    \n",
    "    cbar = fig.colorbar(img, ax=axes.ravel().tolist(), location=\"bottom\", aspect=100)\n",
    "    cbar.set_label(\"dbZ\", rotation=0)"
   ]
  },
  {
   "cell_type": "code",
   "execution_count": null,
   "metadata": {
    "ExecuteTime": {
     "end_time": "2021-10-30T01:41:55.006215Z",
     "start_time": "2021-10-30T01:41:54.995522Z"
    },
    "code_folding": [],
    "id": "cRyulAzmQNp-"
   },
   "outputs": [],
   "source": [
    "# def plot_obs_pred(target, prediction, N=3, cmap='darts', title_files=None):\n",
    "#     '''\n",
    "#     Simple plotting of some frames of the target and prediction on a figure with two rows, one for each.\n",
    "#     N: how many frames of each to plot\n",
    "#     cmap: colormap. Recommended to use 'darts' or 'binary'.\n",
    "#     title_files: list of each frame original file to use as titles.\n",
    "#     '''\n",
    "#     # define cmap and ranges\n",
    "#     if cmap == 'darts':\n",
    "#         cmap = get_cmap()\n",
    "\n",
    "#     max_ = np.max(target)\n",
    "#     vmax = 1\n",
    "#     if max_ > 2:\n",
    "#         vmax = 70\n",
    "#     elif max_ > 70:\n",
    "#         vmax = 255\n",
    "#     else:\n",
    "#         vmax = 1\n",
    "        \n",
    "#     n_frames = target.shape[0]\n",
    "#     skip = int(n_frames/N) # how many frames to skip to plot only N frames\n",
    "#     fig, axes = plt.subplots(nrows=2, ncols=N, figsize=(15,8))\n",
    "#     i = 0\n",
    "#     plot_sequence = target # auxiliary variable to use for plotting\n",
    "#     for ax in axes.flat:\n",
    "#         # once the target has been plotted, switch to prediction\n",
    "#         if i == N:\n",
    "#             plot_sequence = prediction\n",
    "#             i = 0\n",
    "#         im = ax.imshow(plot_sequence[i*skip,...],vmin=0, vmax=vmax, cmap=cmap)\n",
    "#         if title_files is not None:\n",
    "#             ax.set_title(get_title(title_files, i*skip))\n",
    "#         #ax.axis('off')\n",
    "#         ax.set_yticklabels([])\n",
    "#         ax.set_xticklabels([])\n",
    "#         i += 1\n",
    "        \n",
    "#     axes[0,0].set_ylabel('OBS')\n",
    "#     axes[1,0].set_ylabel('PRED')\n",
    "#     # show the colorbar at the bottom horizontally\n",
    "#     cbar = fig.colorbar(im, ax=axes.ravel().tolist(), location='bottom', aspect=100)\n",
    "#     cbar.set_label('dbZ', rotation=0)\n",
    "#     fig.show()\n",
    "#     plt.show()\n",
    "#     #fig.tight_layout()\n",
    "#     return fig"
   ]
  },
  {
   "cell_type": "code",
   "execution_count": null,
   "metadata": {
    "ExecuteTime": {
     "end_time": "2021-10-30T01:44:07.689119Z",
     "start_time": "2021-10-30T01:42:01.482580Z"
    },
    "id": "8K9GBMYcQNqA"
   },
   "outputs": [],
   "source": [
    "_, _, tt_dataloader = get_dataloaders()\n",
    "for n_batch, b_data in enumerate(tt_dataloader):\n",
    "    X = b_data[\"data\"]\n",
    "    Y = b_data[\"labels\"]\n",
    "    break"
   ]
  },
  {
   "cell_type": "code",
   "execution_count": null,
   "metadata": {
    "ExecuteTime": {
     "end_time": "2021-10-30T01:44:09.177600Z",
     "start_time": "2021-10-30T01:44:07.904839Z"
    },
    "id": "al8q8yFSQNqA"
   },
   "outputs": [
    {
     "data": {
      "image/png": "[encoded data removed]",
      "text/plain": [
       "<Figure size 2000x1000 with 6 Axes>"
      ]
     },
     "metadata": {},
     "output_type": "display_data"
    }
   ],
   "source": [
    "plt.figure(figsize=(20, 10))\n",
    "for i in range(args.n_inputs):\n",
    "    plt.subplot(1, args.n_inputs, i + 1)\n",
    "    plt.imshow(X[0][i], cmap=cmap)"
   ]
  },
  {
   "cell_type": "code",
   "execution_count": null,
   "metadata": {
    "ExecuteTime": {
     "end_time": "2021-10-30T01:44:58.180545Z",
     "start_time": "2021-10-30T01:44:58.042297Z"
    },
    "id": "czlo3HVYQNqD"
   },
   "outputs": [],
   "source": [
    "# plt.figure(figsize=(20, 10))\n",
    "# for i in range(args.n_inputs):\n",
    "#     plt.subplot(1, args.n_inputs, i + 1)\n",
    "#     plt.imshow(X[0][i], vmin=0, vmax=70, cmap=cmap)"
   ]
  },
  {
   "cell_type": "code",
   "execution_count": null,
   "metadata": {
    "ExecuteTime": {
     "end_time": "2021-10-30T01:45:32.171112Z",
     "start_time": "2021-10-30T01:45:31.603388Z"
    },
    "id": "oPCUFbp2QNqD"
   },
   "outputs": [
    {
     "data": {
      "image/png": "[encoded data removed]",
      "text/plain": [
       "<Figure size 2000x1000 with 25 Axes>"
      ]
     },
     "metadata": {},
     "output_type": "display_data"
    }
   ],
   "source": [
    "plot_obs_pred(X, Y, N=args.n_outputs, plot_inputs=False)"
   ]
  },
  {
   "cell_type": "code",
   "execution_count": null,
   "metadata": {},
   "outputs": [],
   "source": [
    "import torch"
   ]
  }
 ],
 "metadata": {
  "celltoolbar": "Raw Cell Format",
  "colab": {
   "collapsed_sections": [
    "5od_pdQRE4lj"
   ],
   "name": "1 - 10.28.ipynb",
   "provenance": []
  },
  "kernelspec": {
   "display_name": "base",
   "language": "python",
   "name": "python3"
  },
  "language_info": {
   "codemirror_mode": {
    "name": "ipython",
    "version": 3
   },
   "file_extension": ".py",
   "mimetype": "text/x-python",
   "name": "python",
   "nbconvert_exporter": "python",
   "pygments_lexer": "ipython3",
   "version": "3.10.9"
  },
  "toc": {
   "base_numbering": 1,
   "nav_menu": {},
   "number_sections": true,
   "sideBar": true,
   "skip_h1_title": false,
   "title_cell": "Table of Contents",
   "title_sidebar": "Contents",
   "toc_cell": false,
   "toc_position": {
    "height": "calc(100% - 180px)",
    "left": "10px",
    "top": "150px",
    "width": "300px"
   },
   "toc_section_display": true,
   "toc_window_display": true
  },
  "varInspector": {
   "cols": {
    "lenName": 16,
    "lenType": 16,
    "lenVar": 40
   },
   "kernels_config": {
    "python": {
     "delete_cmd_postfix": "",
     "delete_cmd_prefix": "del ",
     "library": "var_list.py",
     "varRefreshCmd": "print(var_dic_list())"
    },
    "r": {
     "delete_cmd_postfix": ") ",
     "delete_cmd_prefix": "rm(",
     "library": "var_list.r",
     "varRefreshCmd": "cat(var_dic_list()) "
    }
   },
   "types_to_exclude": [
    "module",
    "function",
    "builtin_function_or_method",
    "instance",
    "_Feature"
   ],
   "window_display": false
  },
  "vscode": {
   "interpreter": {
    "hash": "50bc9c60ce257d1ba4c12a89132d94e2f513c873f6d1178cba979650034b40ea"
   }
  }
 },
 "nbformat": 4,
 "nbformat_minor": 1
}
